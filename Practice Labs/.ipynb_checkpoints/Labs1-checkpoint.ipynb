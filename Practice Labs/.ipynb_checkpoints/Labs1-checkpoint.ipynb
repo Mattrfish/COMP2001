{
 "cells": [
  {
   "cell_type": "code",
   "execution_count": 1,
   "id": "b4a8d3d9-f487-46c6-99d8-128e2afa6d6a",
   "metadata": {},
   "outputs": [
    {
     "name": "stdout",
     "output_type": "stream",
     "text": [
      "Requirement already satisfied: requests in c:\\users\\matthew\\appdata\\local\\programs\\python\\python313\\lib\\site-packages (2.32.3)\n",
      "Requirement already satisfied: charset-normalizer<4,>=2 in c:\\users\\matthew\\appdata\\local\\programs\\python\\python313\\lib\\site-packages (from requests) (3.4.0)\n",
      "Requirement already satisfied: idna<4,>=2.5 in c:\\users\\matthew\\appdata\\local\\programs\\python\\python313\\lib\\site-packages (from requests) (3.10)\n",
      "Requirement already satisfied: urllib3<3,>=1.21.1 in c:\\users\\matthew\\appdata\\local\\programs\\python\\python313\\lib\\site-packages (from requests) (2.2.3)\n",
      "Requirement already satisfied: certifi>=2017.4.17 in c:\\users\\matthew\\appdata\\local\\programs\\python\\python313\\lib\\site-packages (from requests) (2024.8.30)\n"
     ]
    },
    {
     "name": "stderr",
     "output_type": "stream",
     "text": [
      "\n",
      "[notice] A new release of pip is available: 24.2 -> 24.3.1\n",
      "[notice] To update, run: python.exe -m pip install --upgrade pip\n"
     ]
    }
   ],
   "source": [
    "!pip install requests"
   ]
  },
  {
   "cell_type": "code",
   "execution_count": 2,
   "id": "d331aab8-4146-4b9c-99f0-e1e237fead38",
   "metadata": {},
   "outputs": [
    {
     "data": {
      "text/plain": [
       "<Response [200]>"
      ]
     },
     "execution_count": 2,
     "metadata": {},
     "output_type": "execute_result"
    }
   ],
   "source": [
    "import requests\n",
    "\n",
    "requests.get(\"https://randomuser.me/api/\")"
   ]
  },
  {
   "cell_type": "code",
   "execution_count": 3,
   "id": "ace72fda-d158-4c3f-8b20-bcfc8f05c764",
   "metadata": {},
   "outputs": [
    {
     "data": {
      "text/plain": [
       "'{\"results\":[{\"gender\":\"male\",\"name\":{\"title\":\"Mr\",\"first\":\"Nikodem\",\"last\":\"Akhtar\"},\"location\":{\"street\":{\"number\":7465,\"name\":\"Smiuvegen\"},\"city\":\"Lyefjell\",\"state\":\"Hordaland\",\"country\":\"Norway\",\"postcode\":\"1960\",\"coordinates\":{\"latitude\":\"44.0977\",\"longitude\":\"-0.9776\"},\"timezone\":{\"offset\":\"-1:00\",\"description\":\"Azores, Cape Verde Islands\"}},\"email\":\"nikodem.akhtar@example.com\",\"login\":{\"uuid\":\"b06bc750-7a4a-4b75-a09d-dd389c1e2e38\",\"username\":\"organicswan836\",\"password\":\"0911\",\"salt\":\"DPrNSDuy\",\"md5\":\"edf7708cb110c07e93a7d5d3b01da02a\",\"sha1\":\"53d23ecbb84ca6f405370fb16512b567cf619f73\",\"sha256\":\"abd25a22c6e1eee5041f0af9319dce01cd80dfafb293edc8bbbd19a0a540fafc\"},\"dob\":{\"date\":\"1993-05-13T16:40:10.945Z\",\"age\":31},\"registered\":{\"date\":\"2006-08-01T01:03:53.162Z\",\"age\":18},\"phone\":\"67081825\",\"cell\":\"46061030\",\"id\":{\"name\":\"FN\",\"value\":\"13059326184\"},\"picture\":{\"large\":\"https://randomuser.me/api/portraits/men/52.jpg\",\"medium\":\"https://randomuser.me/api/portraits/med/men/52.jpg\",\"thumbnail\":\"https://randomuser.me/api/portraits/thumb/men/52.jpg\"},\"nat\":\"NO\"}],\"info\":{\"seed\":\"67559437690a5bff\",\"results\":1,\"page\":1,\"version\":\"1.4\"}}'"
      ]
     },
     "execution_count": 3,
     "metadata": {},
     "output_type": "execute_result"
    }
   ],
   "source": [
    "response = requests.get(\"https://randomuser.me/api/\")\n",
    "\n",
    "response.text\n"
   ]
  },
  {
   "cell_type": "code",
   "execution_count": 4,
   "id": "70ee8f06-32e4-45ad-9496-3541b629abde",
   "metadata": {},
   "outputs": [
    {
     "ename": "IndentationError",
     "evalue": "unexpected indent (2953321895.py, line 3)",
     "output_type": "error",
     "traceback": [
      "\u001b[1;36m  Cell \u001b[1;32mIn[4], line 3\u001b[1;36m\u001b[0m\n\u001b[1;33m    response.text\u001b[0m\n\u001b[1;37m    ^\u001b[0m\n\u001b[1;31mIndentationError\u001b[0m\u001b[1;31m:\u001b[0m unexpected indent\n"
     ]
    }
   ],
   "source": [
    "response = requests.get(\"https://api.thecatapi.com/\")\n",
    "\n",
    " response.text\n"
   ]
  },
  {
   "cell_type": "code",
   "execution_count": 5,
   "id": "a3a022af-02c2-41d0-974a-02e3d09d3fa7",
   "metadata": {},
   "outputs": [
    {
     "data": {
      "text/plain": [
       "'{\"message\":\"The Cat API\",\"version\":\"1.3.9\"}'"
      ]
     },
     "execution_count": 5,
     "metadata": {},
     "output_type": "execute_result"
    }
   ],
   "source": [
    "response = requests.get(\"https://api.thecatapi.com/\")\n",
    "\n",
    "response.text\n"
   ]
  },
  {
   "cell_type": "code",
   "execution_count": 6,
   "id": "9a95d356-890a-4776-998e-6b1ede8e1311",
   "metadata": {},
   "outputs": [
    {
     "data": {
      "text/plain": [
       "'[{\"weight\":{\"imperial\":\"7  -  10\",\"metric\":\"3 - 5\"},\"id\":\"abys\",\"name\":\"Abyssinian\",\"cfa_url\":\"http://cfa.org/Breeds/BreedsAB/Abyssinian.aspx\",\"vetstreet_url\":\"http://www.vetstreet.com/cats/abyssinian\",\"vcahospitals_url\":\"https://vcahospitals.com/know-your-pet/cat-breeds/abyssinian\",\"temperament\":\"Active, Energetic, Independent, Intelligent, Gentle\",\"origin\":\"Egypt\",\"country_codes\":\"EG\",\"country_code\":\"EG\",\"description\":\"The Abyssinian is easy to care for, and a joy to have in your home. They’re affectionate cats and love both people and other animals.\",\"life_span\":\"14 - 15\",\"indoor\":0,\"lap\":1,\"alt_names\":\"\",\"adaptability\":5,\"affection_level\":5,\"child_friendly\":3,\"dog_friendly\":4,\"energy_level\":5,\"grooming\":1,\"health_issues\":2,\"intelligence\":5,\"shedding_level\":2,\"social_needs\":5,\"stranger_friendly\":5,\"vocalisation\":1,\"experimental\":0,\"hairless\":0,\"natural\":1,\"rare\":0,\"rex\":0,\"suppressed_tail\":0,\"short_legs\":0,\"wikipedia_url\":\"https://en.wikipedia.org/wiki/Abyssinian_(cat)\",\"hypoallergenic\":0,\"reference_image_id\":\"0XYvRd7oD\"},{\"weight\":{\"imperial\":\"7 - 10\",\"metric\":\"3 - 5\"},\"id\":\"aege\",\"name\":\"Aegean\",\"vetstreet_url\":\"http://www.vetstreet.com/cats/aegean-cat\",\"temperament\":\"Affectionate, Social, Intelligent, Playful, Active\",\"origin\":\"Greece\",\"country_codes\":\"GR\",\"country_code\":\"GR\",\"description\":\"Native to the Greek islands known as the Cyclades in the Aegean Sea, these are natural cats, meaning they developed without humans getting involved in their breeding. As a breed, Aegean Cats are rare, although they are numerous on their home islands. They are generally friendly toward people and can be excellent cats for families with children.\",\"life_span\":\"9 - 12\",\"indoor\":0,\"alt_names\":\"\",\"adaptability\":5,\"affection_level\":4,\"child_friendly\":4,\"dog_friendly\":4,\"energy_level\":3,\"grooming\":3,\"health_issues\":1,\"intelligence\":3,\"shedding_level\":3,\"social_needs\":4,\"stranger_friendly\":4,\"vocalisation\":3,\"experimental\":0,\"hairless\":0,\"natural\":0,\"rare\":0,\"rex\":0,\"suppressed_tail\":0,\"short_legs\":0,\"wikipedia_url\":\"https://en.wikipedia.org/wiki/Aegean_cat\",\"hypoallergenic\":0,\"reference_image_id\":\"ozEvzdVM-\"},{\"weight\":{\"imperial\":\"7 - 16\",\"metric\":\"3 - 7\"},\"id\":\"abob\",\"name\":\"American Bobtail\",\"cfa_url\":\"http://cfa.org/Breeds/BreedsAB/AmericanBobtail.aspx\",\"vetstreet_url\":\"http://www.vetstreet.com/cats/american-bobtail\",\"vcahospitals_url\":\"https://vcahospitals.com/know-your-pet/cat-breeds/american-bobtail\",\"temperament\":\"Intelligent, Interactive, Lively, Playful, Sensitive\",\"origin\":\"United States\",\"country_codes\":\"US\",\"country_code\":\"US\",\"description\":\"American Bobtails are loving and incredibly intelligent cats possessing a distinctive wild appearance. They are extremely interactive cats that bond with their human family with great devotion.\",\"life_span\":\"11 - 15\",\"indoor\":0,\"lap\":1,\"alt_names\":\"\",\"adaptability\":5,\"affection_level\":5,\"child_friendly\":4,\"dog_friendly\":5,\"energy_level\":3,\"grooming\":1,\"health_issues\":1,\"intelligence\":5,\"shedding_level\":3,\"social_needs\":3,\"stranger_friendly\":3,\"vocalisation\":3,\"experimental\":0,\"hairless\":0,\"natural\":0,\"rare\":0,\"rex\":0,\"suppressed_tail\":1,\"short_legs\":0,\"wikipedia_url\":\"https://en.wikipedia.org/wiki/American_Bobtail\",\"hypoallergenic\":0,\"reference_image_id\":\"hBXicehMA\"},{\"weight\":{\"imperial\":\"5 - 10\",\"metric\":\"2 - 5\"},\"id\":\"acur\",\"name\":\"American Curl\",\"cfa_url\":\"http://cfa.org/Breeds/BreedsAB/AmericanCurl.aspx\",\"vetstreet_url\":\"http://www.vetstreet.com/cats/american-curl\",\"vcahospitals_url\":\"https://vcahospitals.com/know-your-pet/cat-breeds/american-curl\",\"temperament\":\"Affectionate, Curious, Intelligent, Interactive, Lively, Playful, Social\",\"origin\":\"United States\",\"country_codes\":\"US\",\"country_code\":\"US\",\"description\":\"Distinguished by truly unique ears that curl back in a graceful arc, offering an alert, perky, happily surprised expression, they cause people to break out into a big smile when viewing their first Curl. Curls are very people-oriented, faithful, affectionate soulmates, adjusting remarkably fast to other pets, children, and new situations.\",\"life_span\":\"12 - 16\",\"indoor\":0,\"lap\":1,\"alt_names\":\"\",\"adaptability\":5,\"affection_level\":5,\"child_friendly\":4,\"dog_friendly\":5,\"energy_level\":3,\"grooming\":2,\"health_issues\":1,\"intelligence\":3,\"shedding_level\":3,\"social_needs\":3,\"stranger_friendly\":3,\"vocalisation\":3,\"experimental\":0,\"hairless\":0,\"natural\":0,\"rare\":0,\"rex\":0,\"suppressed_tail\":0,\"short_legs\":0,\"wikipedia_url\":\"https://en.wikipedia.org/wiki/American_Curl\",\"hypoallergenic\":0,\"reference_image_id\":\"xnsqonbjW\"},{\"weight\":{\"imperial\":\"8 - 15\",\"metric\":\"4 - 7\"},\"id\":\"asho\",\"name\":\"American Shorthair\",\"cfa_url\":\"http://cfa.org/Breeds/BreedsAB/AmericanShorthair.aspx\",\"vetstreet_url\":\"http://www.vetstreet.com/cats/american-shorthair\",\"vcahospitals_url\":\"https://vcahospitals.com/know-your-pet/cat-breeds/american-shorthair\",\"temperament\":\"Active, Curious, Easy Going, Playful, Calm\",\"origin\":\"United States\",\"country_codes\":\"US\",\"country_code\":\"US\",\"description\":\"The American Shorthair is known for its longevity, robust health, good looks, sweet personality, and amiability with children, dogs, and other pets.\",\"life_span\":\"15 - 17\",\"indoor\":0,\"lap\":1,\"alt_names\":\"Domestic Shorthair\",\"adaptability\":5,\"affection_level\":5,\"child_friendly\":4,\"dog_friendly\":5,\"energy_level\":3,\"grooming\":1,\"health_issues\":3,\"intelligence\":3,\"shedding_level\":3,\"social_needs\":4,\"stranger_friendly\":3,\"vocalisation\":3,\"experimental\":0,\"hairless\":0,\"natural\":1,\"rare\":0,\"rex\":0,\"suppressed_tail\":0,\"short_legs\":0,\"wikipedia_url\":\"https://en.wikipedia.org/wiki/American_Shorthair\",\"hypoallergenic\":0,\"reference_image_id\":\"JFPROfGtQ\"},{\"weight\":{\"imperial\":\"8 - 15\",\"metric\":\"4 - 7\"},\"id\":\"awir\",\"name\":\"American Wirehair\",\"cfa_url\":\"http://cfa.org/Breeds/BreedsAB/AmericanWirehair.aspx\",\"vetstreet_url\":\"http://www.vetstreet.com/cats/american-wirehair\",\"temperament\":\"Affectionate, Curious, Gentle, Intelligent, Interactive, Lively, Loyal, Playful, Sensible, Social\",\"origin\":\"United States\",\"country_codes\":\"US\",\"country_code\":\"US\",\"description\":\"The American Wirehair tends to be a calm and tolerant cat who takes life as it comes. His favorite hobby is bird-watching from a sunny windowsill, and his hunting ability will stand you in good stead if insects enter the house.\",\"life_span\":\"14 - 18\",\"indoor\":0,\"lap\":1,\"alt_names\":\"\",\"adaptability\":5,\"affection_level\":5,\"child_friendly\":4,\"dog_friendly\":5,\"energy_level\":3,\"grooming\":1,\"health_issues\":3,\"intelligence\":3,\"shedding_level\":1,\"social_needs\":3,\"stranger_friendly\":3,\"vocalisation\":3,\"experimental\":0,\"hairless\":0,\"natural\":0,\"rare\":0,\"rex\":0,\"suppressed_tail\":0,\"short_legs\":0,\"wikipedia_url\":\"https://en.wikipedia.org/wiki/American_Wirehair\",\"hypoallergenic\":0,\"reference_image_id\":\"8D--jCd21\"},{\"weight\":{\"imperial\":\"8 - 16\",\"metric\":\"4 - 7\"},\"id\":\"amau\",\"name\":\"Arabian Mau\",\"vcahospitals_url\":\"\",\"temperament\":\"Affectionate, Agile, Curious, Independent, Playful, Loyal\",\"origin\":\"United Arab Emirates\",\"country_codes\":\"AE\",\"country_code\":\"AE\",\"description\":\"Arabian Mau cats are social and energetic. Due to their energy levels, these cats do best in homes where their owners will be able to provide them with plenty of playtime, attention and interaction from their owners. These kitties are friendly, intelligent, and adaptable, and will even get along well with other pets and children.\",\"life_span\":\"12 - 14\",\"indoor\":0,\"alt_names\":\"Alley cat\",\"adaptability\":5,\"affection_level\":5,\"child_friendly\":4,\"dog_friendly\":5,\"energy_level\":4,\"grooming\":1,\"health_issues\":1,\"intelligence\":3,\"shedding_level\":1,\"social_needs\":3,\"stranger_friendly\":3,\"vocalisation\":1,\"experimental\":0,\"hairless\":0,\"natural\":1,\"rare\":0,\"rex\":0,\"suppressed_tail\":0,\"short_legs\":0,\"wikipedia_url\":\"https://en.wikipedia.org/wiki/Arabian_Mau\",\"hypoallergenic\":0,\"reference_image_id\":\"k71ULYfRr\"},{\"weight\":{\"imperial\":\"7 - 15\",\"metric\":\"3 - 7\"},\"id\":\"amis\",\"name\":\"Australian Mist\",\"temperament\":\"Lively, Social, Fun-loving, Relaxed, Affectionate\",\"origin\":\"Australia\",\"country_codes\":\"AU\",\"country_code\":\"AU\",\"description\":\"The Australian Mist thrives on human companionship. Tolerant of even the youngest of children, these friendly felines enjoy playing games and being part of the hustle and bustle of a busy household. They make entertaining companions for people of all ages, and are happy to remain indoors between dusk and dawn or to be wholly indoor pets.\",\"life_span\":\"12 - 16\",\"indoor\":0,\"lap\":1,\"alt_names\":\"Spotted Mist\",\"adaptability\":5,\"affection_level\":5,\"child_friendly\":4,\"dog_friendly\":5,\"energy_level\":4,\"grooming\":3,\"health_issues\":1,\"intelligence\":4,\"shedding_level\":3,\"social_needs\":4,\"stranger_friendly\":4,\"vocalisation\":3,\"experimental\":0,\"hairless\":0,\"natural\":0,\"rare\":0,\"rex\":0,\"suppressed_tail\":0,\"short_legs\":0,\"wikipedia_url\":\"https://en.wikipedia.org/wiki/Australian_Mist\",\"hypoallergenic\":0,\"reference_image_id\":\"_6x-3TiCA\"},{\"weight\":{\"imperial\":\"4 - 10\",\"metric\":\"2 - 5\"},\"id\":\"bali\",\"name\":\"Balinese\",\"cfa_url\":\"http://cfa.org/Breeds/BreedsAB/Balinese.aspx\",\"vetstreet_url\":\"http://www.vetstreet.com/cats/balinese\",\"vcahospitals_url\":\"https://vcahospitals.com/know-your-pet/cat-breeds/balinese\",\"temperament\":\"Affectionate, Intelligent, Playful\",\"origin\":\"United States\",\"country_codes\":\"US\",\"country_code\":\"US\",\"description\":\"Balinese are curious, outgoing, intelligent cats with excellent communication skills. They are known for their chatty personalities and are always eager to tell you their views on life, love, and what you’ve served them for dinner. \",\"life_span\":\"10 - 15\",\"indoor\":0,\"alt_names\":\"Long-haired Siamese\",\"adaptability\":5,\"affection_level\":5,\"child_friendly\":4,\"dog_friendly\":5,\"energy_level\":5,\"grooming\":3,\"health_issues\":3,\"intelligence\":5,\"shedding_level\":3,\"social_needs\":5,\"stranger_friendly\":5,\"vocalisation\":5,\"experimental\":0,\"hairless\":0,\"natural\":0,\"rare\":0,\"rex\":0,\"suppressed_tail\":0,\"short_legs\":0,\"wikipedia_url\":\"https://en.wikipedia.org/wiki/Balinese_(cat)\",\"hypoallergenic\":1,\"reference_image_id\":\"13MkvUreZ\"},{\"weight\":{\"imperial\":\"4 - 9\",\"metric\":\"2 - 4\"},\"id\":\"bamb\",\"name\":\"Bambino\",\"temperament\":\"Affectionate, Lively, Friendly, Intelligent\",\"origin\":\"United States\",\"country_codes\":\"US\",\"country_code\":\"US\",\"description\":\"The Bambino is a breed of cat that was created as a cross between the Sphynx and the Munchkin breeds. The Bambino cat has short legs, large upright ears, and is usually hairless. They love to be handled and cuddled up on the laps of their family members.\",\"life_span\":\"12 - 14\",\"indoor\":0,\"lap\":1,\"alt_names\":\"\",\"adaptability\":5,\"affection_level\":5,\"child_friendly\":4,\"dog_friendly\":5,\"energy_level\":5,\"grooming\":1,\"health_issues\":1,\"intelligence\":5,\"shedding_level\":1,\"social_needs\":3,\"stranger_friendly\":3,\"vocalisation\":3,\"experimental\":1,\"hairless\":1,\"natural\":0,\"rare\":0,\"rex\":0,\"suppressed_tail\":0,\"short_legs\":1,\"wikipedia_url\":\"https://en.wikipedia.org/wiki/Bambino_cat\",\"hypoallergenic\":0,\"reference_image_id\":\"5AdhMjeEu\"},{\"weight\":{\"imperial\":\"6 - 12\",\"metric\":\"3 - 7\"},\"id\":\"beng\",\"name\":\"Bengal\",\"cfa_url\":\"http://cfa.org/Breeds/BreedsAB/Bengal.aspx\",\"vetstreet_url\":\"http://www.vetstreet.com/cats/bengal\",\"vcahospitals_url\":\"https://vcahospitals.com/know-your-pet/cat-breeds/bengal\",\"temperament\":\"Alert, Agile, Energetic, Demanding, Intelligent\",\"origin\":\"United States\",\"country_codes\":\"US\",\"country_code\":\"US\",\"description\":\"Bengals are a lot of fun to live with, but they\\'re definitely not the cat for everyone, or for first-time cat owners. Extremely intelligent, curious and active, they demand a lot of interaction and woe betide the owner who doesn\\'t provide it.\",\"life_span\":\"12 - 15\",\"indoor\":0,\"lap\":0,\"adaptability\":5,\"affection_level\":5,\"child_friendly\":4,\"cat_friendly\":4,\"dog_friendly\":5,\"energy_level\":5,\"grooming\":1,\"health_issues\":3,\"intelligence\":5,\"shedding_level\":3,\"social_needs\":5,\"stranger_friendly\":3,\"vocalisation\":5,\"bidability\":3,\"experimental\":0,\"hairless\":0,\"natural\":0,\"rare\":0,\"rex\":0,\"suppressed_tail\":0,\"short_legs\":0,\"wikipedia_url\":\"https://en.wikipedia.org/wiki/Bengal_(cat)\",\"hypoallergenic\":1,\"reference_image_id\":\"O3btzLlsO\"},{\"weight\":{\"imperial\":\"6 - 15\",\"metric\":\"3 - 7\"},\"id\":\"birm\",\"name\":\"Birman\",\"cfa_url\":\"http://cfa.org/Breeds/BreedsAB/Birman.aspx\",\"vetstreet_url\":\"http://www.vetstreet.com/cats/birman\",\"vcahospitals_url\":\"https://vcahospitals.com/know-your-pet/cat-breeds/birman\",\"temperament\":\"Affectionate, Active, Gentle, Social\",\"origin\":\"France\",\"country_codes\":\"FR\",\"country_code\":\"FR\",\"description\":\"The Birman is a docile, quiet cat who loves people and will follow them from room to room. Expect the Birman to want to be involved in what you’re doing. He communicates in a soft voice, mainly to remind you that perhaps it’s time for dinner or maybe for a nice cuddle on the sofa. He enjoys being held and will relax in your arms like a furry baby.\",\"life_span\":\"14 - 15\",\"indoor\":0,\"lap\":1,\"alt_names\":\"Sacred Birman, Sacred Cat Of Burma\",\"adaptability\":5,\"affection_level\":5,\"child_friendly\":4,\"dog_friendly\":5,\"energy_level\":3,\"grooming\":2,\"health_issues\":1,\"intelligence\":3,\"shedding_level\":3,\"social_needs\":4,\"stranger_friendly\":3,\"vocalisation\":1,\"experimental\":0,\"hairless\":0,\"natural\":0,\"rare\":0,\"rex\":0,\"suppressed_tail\":0,\"short_legs\":0,\"wikipedia_url\":\"https://en.wikipedia.org/wiki/Birman\",\"hypoallergenic\":0,\"reference_image_id\":\"HOrX5gwLS\"},{\"weight\":{\"imperial\":\"6 - 11\",\"metric\":\"3 - 5\"},\"id\":\"bomb\",\"name\":\"Bombay\",\"cfa_url\":\"http://cfa.org/Breeds/BreedsAB/Bombay.aspx\",\"vetstreet_url\":\"http://www.vetstreet.com/cats/bombay\",\"vcahospitals_url\":\"https://vcahospitals.com/know-your-pet/cat-breeds/bombay\",\"temperament\":\"Affectionate, Dependent, Gentle, Intelligent, Playful\",\"origin\":\"United States\",\"country_codes\":\"US\",\"country_code\":\"US\",\"description\":\"The the golden eyes and the shiny black coa of the Bopmbay is absolutely striking. Likely to bond most with one family member, the Bombay will follow you from room to room and will almost always have something to say about what you are doing, loving attention and to be carried around, often on his caregiver\\'s shoulder.\",\"life_span\":\"12 - 16\",\"indoor\":0,\"lap\":1,\"alt_names\":\"Small black Panther\",\"adaptability\":5,\"affection_level\":5,\"child_friendly\":4,\"dog_friendly\":5,\"energy_level\":3,\"grooming\":1,\"health_issues\":3,\"intelligence\":5,\"shedding_level\":3,\"social_needs\":4,\"stranger_friendly\":4,\"vocalisation\":5,\"experimental\":0,\"hairless\":0,\"natural\":0,\"rare\":0,\"rex\":0,\"suppressed_tail\":0,\"short_legs\":0,\"wikipedia_url\":\"https://en.wikipedia.org/wiki/Bombay_(cat)\",\"hypoallergenic\":0,\"reference_image_id\":\"5iYq9NmT1\"},{\"weight\":{\"imperial\":\"8 - 18\",\"metric\":\"4 - 8\"},\"id\":\"bslo\",\"name\":\"British Longhair\",\"temperament\":\"Affectionate, Easy Going, Independent, Intelligent, Loyal, Social\",\"origin\":\"United Kingdom\",\"country_codes\":\"GB\",\"country_code\":\"GB\",\"description\":\"The British Longhair is a very laid-back relaxed cat, often perceived to be very independent although they will enjoy the company of an equally relaxed and likeminded cat. They are an affectionate breed, but very much on their own terms and tend to prefer to choose to come and sit with their owners rather than being picked up.\",\"life_span\":\"12 - 14\",\"indoor\":0,\"alt_names\":\"\",\"adaptability\":5,\"affection_level\":5,\"child_friendly\":4,\"dog_friendly\":5,\"energy_level\":4,\"grooming\":5,\"health_issues\":1,\"intelligence\":5,\"shedding_level\":1,\"social_needs\":3,\"stranger_friendly\":4,\"vocalisation\":1,\"experimental\":0,\"hairless\":0,\"natural\":0,\"rare\":0,\"rex\":0,\"suppressed_tail\":0,\"short_legs\":0,\"wikipedia_url\":\"https://en.wikipedia.org/wiki/British_Longhair\",\"hypoallergenic\":0,\"reference_image_id\":\"7isAO4Cav\"},{\"weight\":{\"imperial\":\"12 - 20\",\"metric\":\"5 - 9\"},\"id\":\"bsho\",\"name\":\"British Shorthair\",\"cfa_url\":\"http://cfa.org/Breeds/BreedsAB/BritishShorthair.aspx\",\"vetstreet_url\":\"http://www.vetstreet.com/cats/british-shorthair\",\"vcahospitals_url\":\"https://vcahospitals.com/know-your-pet/cat-breeds/british-shorthair\",\"temperament\":\"Affectionate, Easy Going, Gentle, Loyal, Patient, calm\",\"origin\":\"United Kingdom\",\"country_codes\":\"GB\",\"country_code\":\"GB\",\"description\":\"The British Shorthair is a very pleasant cat to have as a companion, ans is easy going and placid. The British is a fiercely loyal, loving cat and will attach herself to every one of her family members. While loving to play, she doesn\\'t need hourly attention. If she is in the mood to play, she will find someone and bring a toy to that person. The British also plays well by herself, and thus is a good companion for single people.\",\"life_span\":\"12 - 17\",\"indoor\":0,\"lap\":1,\"alt_names\":\"Highlander, Highland Straight, Britannica\",\"adaptability\":5,\"affection_level\":4,\"child_friendly\":4,\"dog_friendly\":5,\"energy_level\":2,\"grooming\":2,\"health_issues\":2,\"intelligence\":3,\"shedding_level\":4,\"social_needs\":3,\"stranger_friendly\":2,\"vocalisation\":1,\"experimental\":0,\"hairless\":0,\"natural\":1,\"rare\":0,\"rex\":0,\"suppressed_tail\":0,\"short_legs\":0,\"wikipedia_url\":\"https://en.wikipedia.org/wiki/British_Shorthair\",\"hypoallergenic\":0,\"reference_image_id\":\"s4wQfYoEk\"},{\"weight\":{\"imperial\":\"6 - 12\",\"metric\":\"3 - 5\"},\"id\":\"bure\",\"name\":\"Burmese\",\"cfa_url\":\"http://cfa.org/Breeds/BreedsAB/Burmese.aspx\",\"vetstreet_url\":\"http://www.vetstreet.com/cats/burmese\",\"vcahospitals_url\":\"https://vcahospitals.com/know-your-pet/cat-breeds/burmese\",\"temperament\":\"Curious, Intelligent, Gentle, Social, Interactive, Playful, Lively\",\"origin\":\"Burma\",\"country_codes\":\"MM\",\"country_code\":\"MM\",\"description\":\"Burmese love being with people, playing with them, and keeping them entertained. They crave close physical contact and abhor an empty lap. They will follow their humans from room to room, and sleep in bed with them, preferably under the covers, cuddled as close as possible. At play, they will turn around to see if their human is watching and being entertained by their crazy antics.\",\"life_span\":\"15 - 16\",\"indoor\":0,\"lap\":1,\"alt_names\":\"\",\"adaptability\":5,\"affection_level\":5,\"child_friendly\":4,\"dog_friendly\":5,\"energy_level\":4,\"grooming\":1,\"health_issues\":3,\"intelligence\":5,\"shedding_level\":3,\"social_needs\":5,\"stranger_friendly\":5,\"vocalisation\":5,\"experimental\":0,\"hairless\":0,\"natural\":0,\"rare\":0,\"rex\":0,\"suppressed_tail\":0,\"short_legs\":0,\"wikipedia_url\":\"https://en.wikipedia.org/wiki/Burmese_(cat)\",\"hypoallergenic\":1,\"reference_image_id\":\"4lXnnfxac\"},{\"weight\":{\"imperial\":\"6 - 13\",\"metric\":\"3 - 6\"},\"id\":\"buri\",\"name\":\"Burmilla\",\"cfa_url\":\"http://cfa.org/Breeds/BreedsAB/Burmilla.aspx\",\"vetstreet_url\":\"http://www.vetstreet.com/cats/burmilla\",\"temperament\":\"Easy Going, Friendly, Intelligent, Lively, Playful, Social\",\"origin\":\"United Kingdom\",\"country_codes\":\"GB\",\"country_code\":\"GB\",\"description\":\"The Burmilla is a fairly placid cat. She tends to be an easy cat to get along with, requiring minimal care. The Burmilla is affectionate and sweet and makes a good companion, the Burmilla is an ideal companion to while away a lonely evening. Loyal, devoted, and affectionate, this cat will stay by its owner, always keeping them company.\",\"life_span\":\"10 - 15\",\"indoor\":0,\"lap\":1,\"alt_names\":\"\",\"adaptability\":5,\"affection_level\":5,\"child_friendly\":4,\"dog_friendly\":4,\"energy_level\":3,\"grooming\":3,\"health_issues\":3,\"intelligence\":3,\"shedding_level\":3,\"social_needs\":4,\"stranger_friendly\":3,\"vocalisation\":5,\"experimental\":0,\"hairless\":0,\"natural\":0,\"rare\":0,\"rex\":0,\"suppressed_tail\":0,\"short_legs\":0,\"wikipedia_url\":\"https://en.wikipedia.org/wiki/Burmilla\",\"hypoallergenic\":0,\"reference_image_id\":\"jvg3XfEdC\"},{\"weight\":{\"imperial\":\"10 - 15\",\"metric\":\"5 - 7\"},\"id\":\"cspa\",\"name\":\"California Spangled\",\"temperament\":\"Affectionate, Curious, Intelligent, Loyal, Social\",\"origin\":\"United States\",\"country_codes\":\"US\",\"country_code\":\"US\",\"description\":\"Perhaps the only thing about the California spangled cat that isn’t wild-like is its personality. Known to be affectionate, gentle and sociable, this breed enjoys spending a great deal of time with its owners. They are very playful, often choosing to perch in high locations and show off their acrobatic skills.\",\"life_span\":\"10 - 14\",\"indoor\":0,\"alt_names\":\"Spangle\",\"adaptability\":5,\"affection_level\":5,\"child_friendly\":4,\"dog_friendly\":5,\"energy_level\":5,\"grooming\":1,\"health_issues\":1,\"intelligence\":5,\"shedding_level\":1,\"social_needs\":3,\"stranger_friendly\":4,\"vocalisation\":1,\"experimental\":0,\"hairless\":0,\"natural\":0,\"rare\":0,\"rex\":0,\"suppressed_tail\":0,\"short_legs\":0,\"wikipedia_url\":\"https://en.wikipedia.org/wiki/California_Spangled\",\"hypoallergenic\":0,\"reference_image_id\":\"B1ERTmgph\"},{\"weight\":{\"imperial\":\"7 - 12\",\"metric\":\"3 - 5\"},\"id\":\"ctif\",\"name\":\"Chantilly-Tiffany\",\"temperament\":\"Affectionate, Demanding, Interactive, Loyal\",\"origin\":\"United States\",\"country_codes\":\"US\",\"country_code\":\"US\",\"description\":\"The Chantilly is a devoted companion and prefers company to being left alone. While the Chantilly is not demanding, she will \\\\\"chirp\\\\\" and \\\\\"talk\\\\\" as if having a conversation. This breed is affectionate, with a sweet temperament. It can stay still for extended periods, happily lounging in the lap of its loved one. This quality makes the Tiffany an ideal traveling companion, and an ideal house companion for senior citizens and the physically handicapped.\",\"life_span\":\"14 - 16\",\"indoor\":0,\"lap\":1,\"alt_names\":\"Chantilly, Foreign Longhair\",\"adaptability\":5,\"affection_level\":5,\"child_friendly\":4,\"dog_friendly\":5,\"energy_level\":4,\"grooming\":5,\"health_issues\":1,\"intelligence\":5,\"shedding_level\":5,\"social_needs\":3,\"stranger_friendly\":4,\"vocalisation\":5,\"experimental\":0,\"hairless\":0,\"natural\":0,\"rare\":0,\"rex\":0,\"suppressed_tail\":0,\"short_legs\":0,\"wikipedia_url\":\"https://en.wikipedia.org/wiki/Chantilly-Tiffany\",\"hypoallergenic\":0,\"reference_image_id\":\"TR-5nAd_S\"},{\"weight\":{\"imperial\":\"6 - 15\",\"metric\":\"3 - 7\"},\"id\":\"char\",\"name\":\"Chartreux\",\"cfa_url\":\"http://cfa.org/Breeds/BreedsCJ/Chartreux.aspx\",\"vetstreet_url\":\"http://www.vetstreet.com/cats/chartreux\",\"vcahospitals_url\":\"https://vcahospitals.com/know-your-pet/cat-breeds/chartreux\",\"temperament\":\"Affectionate, Loyal, Intelligent, Social, Lively, Playful\",\"origin\":\"France\",\"country_codes\":\"FR\",\"country_code\":\"FR\",\"description\":\"The Chartreux is generally silent but communicative. Short play sessions, mixed with naps and meals are their perfect day. Whilst appreciating any attention you give them, they are not demanding, content instead to follow you around devotedly, sleep on your bed and snuggle with you if you’re not feeling well.\",\"life_span\":\"12 - 15\",\"indoor\":0,\"lap\":1,\"alt_names\":\"\",\"adaptability\":5,\"affection_level\":5,\"child_friendly\":4,\"dog_friendly\":5,\"energy_level\":2,\"grooming\":1,\"health_issues\":2,\"intelligence\":4,\"shedding_level\":3,\"social_needs\":5,\"stranger_friendly\":5,\"vocalisation\":1,\"experimental\":0,\"hairless\":0,\"natural\":0,\"rare\":0,\"rex\":1,\"suppressed_tail\":0,\"short_legs\":0,\"wikipedia_url\":\"https://en.wikipedia.org/wiki/Chartreux\",\"hypoallergenic\":1,\"reference_image_id\":\"j6oFGLpRG\"},{\"weight\":{\"imperial\":\"7 - 15\",\"metric\":\"3 - 7\"},\"id\":\"chau\",\"name\":\"Chausie\",\"temperament\":\"Affectionate, Intelligent, Playful, Social\",\"origin\":\"Egypt\",\"country_codes\":\"EG\",\"country_code\":\"EG\",\"description\":\"For those owners who desire a feline capable of evoking the great outdoors, the strikingly beautiful Chausie retains a bit of the wild in its appearance but has the house manners of our friendly, familiar moggies. Very playful, this cat needs a large amount of space to be able to fully embrace its hunting instincts.\",\"life_span\":\"12 - 14\",\"indoor\":0,\"alt_names\":\"Nile Cat\",\"adaptability\":5,\"affection_level\":5,\"child_friendly\":4,\"dog_friendly\":5,\"energy_level\":4,\"grooming\":3,\"health_issues\":1,\"intelligence\":5,\"shedding_level\":3,\"social_needs\":3,\"stranger_friendly\":4,\"vocalisation\":1,\"experimental\":1,\"hairless\":0,\"natural\":0,\"rare\":0,\"rex\":0,\"suppressed_tail\":0,\"short_legs\":0,\"wikipedia_url\":\"https://en.wikipedia.org/wiki/Chausie\",\"hypoallergenic\":0,\"reference_image_id\":\"vJ3lEYgXr\"},{\"weight\":{\"imperial\":\"8 - 15\",\"metric\":\"4 - 7\"},\"id\":\"chee\",\"name\":\"Cheetoh\",\"temperament\":\"Affectionate, Gentle, Intelligent, Social\",\"origin\":\"United States\",\"country_codes\":\"US\",\"country_code\":\"US\",\"description\":\"The Cheetoh has a super affectionate nature and real love for their human companions; they are intelligent with the ability to learn quickly. You can expect that a Cheetoh will be a fun-loving kitty who enjoys playing, running, and jumping through every room in your house.\",\"life_span\":\"12 - 14\",\"indoor\":0,\"alt_names\":\"\\xa0\",\"adaptability\":5,\"affection_level\":5,\"child_friendly\":4,\"dog_friendly\":5,\"energy_level\":4,\"grooming\":1,\"health_issues\":1,\"intelligence\":5,\"shedding_level\":1,\"social_needs\":3,\"stranger_friendly\":4,\"vocalisation\":5,\"experimental\":0,\"hairless\":0,\"natural\":0,\"rare\":0,\"rex\":0,\"suppressed_tail\":0,\"short_legs\":0,\"wikipedia_url\":\"https://en.wikipedia.org/wiki/Bengal_cat#Cheetoh\",\"hypoallergenic\":0,\"reference_image_id\":\"IFXsxmXLm\"},{\"weight\":{\"imperial\":\"4 - 10\",\"metric\":\"2 - 5\"},\"id\":\"csho\",\"name\":\"Colorpoint Shorthair\",\"cfa_url\":\"http://cfa.org/Breeds/BreedsCJ/ColorpointShorthair.aspx\",\"vcahospitals_url\":\"https://vcahospitals.com/know-your-pet/cat-breeds/colorpoint-shorthair\",\"temperament\":\"Affectionate, Intelligent, Playful, Social\",\"origin\":\"United States\",\"country_codes\":\"US\",\"country_code\":\"US\",\"description\":\"Colorpoint Shorthairs are an affectionate breed, devoted and loyal to their people. Sensitive to their owner’s moods, Colorpoints are more than happy to sit at your side or on your lap and purr words of encouragement on a bad day. They will constantly seek out your lap whenever it is open and in the moments when your lap is preoccupied they will stretch out in sunny spots on the ground.\",\"life_span\":\"12 - 16\",\"indoor\":0,\"lap\":1,\"alt_names\":\"\",\"adaptability\":3,\"affection_level\":4,\"child_friendly\":4,\"cat_friendly\":3,\"dog_friendly\":4,\"energy_level\":4,\"grooming\":2,\"health_issues\":2,\"intelligence\":5,\"shedding_level\":3,\"social_needs\":4,\"stranger_friendly\":2,\"vocalisation\":5,\"bidability\":4,\"experimental\":0,\"hairless\":0,\"natural\":0,\"rare\":0,\"rex\":0,\"suppressed_tail\":0,\"short_legs\":0,\"wikipedia_url\":\"https://en.wikipedia.org/wiki/Colorpoint_Shorthair\",\"hypoallergenic\":0,\"reference_image_id\":\"oSpqGyUDS\"},{\"weight\":{\"imperial\":\"5 - 9\",\"metric\":\"2 - 4\"},\"id\":\"crex\",\"name\":\"Cornish Rex\",\"cfa_url\":\"http://cfa.org/Breeds/BreedsCJ/CornishRex.aspx\",\"vetstreet_url\":\"http://www.vetstreet.com/cats/cornish-rex\",\"vcahospitals_url\":\"https://vcahospitals.com/know-your-pet/cat-breeds/cornish-rex\",\"temperament\":\"Affectionate, Intelligent, Active, Curious, Playful\",\"origin\":\"United Kingdom\",\"country_codes\":\"GB\",\"country_code\":\"GB\",\"description\":\"This is a confident cat who loves people and will follow them around, waiting for any opportunity to sit in a lap or give a kiss. He enjoys being handled, making it easy to take him to the veterinarian or train him for therapy work. The Cornish Rex stay in kitten mode most of their lives and well into their senior years. \",\"life_span\":\"11 - 14\",\"indoor\":0,\"lap\":1,\"alt_names\":\"\",\"adaptability\":5,\"affection_level\":5,\"child_friendly\":4,\"cat_friendly\":2,\"dog_friendly\":5,\"energy_level\":5,\"grooming\":1,\"health_issues\":2,\"intelligence\":5,\"shedding_level\":1,\"social_needs\":5,\"stranger_friendly\":3,\"vocalisation\":1,\"experimental\":0,\"hairless\":0,\"natural\":0,\"rare\":0,\"rex\":1,\"suppressed_tail\":0,\"short_legs\":0,\"wikipedia_url\":\"https://en.wikipedia.org/wiki/Cornish_Rex\",\"hypoallergenic\":1,\"reference_image_id\":\"unX21IBVB\"},{\"weight\":{\"imperial\":\"8 - 13\",\"metric\":\"4 - 6\"},\"id\":\"cymr\",\"name\":\"Cymric\",\"vetstreet_url\":\"http://www.vetstreet.com/cats/cymric\",\"temperament\":\"Gentle, Loyal, Intelligent, Playful\",\"origin\":\"Canada\",\"country_codes\":\"CA\",\"country_code\":\"CA\",\"description\":\"The Cymric is a placid, sweet cat. They do not get too upset about anything that happens in their world. They are loving companions and adore people. They are smart and dexterous, capable of using his paws to get into cabinets or to open doors.\",\"life_span\":\"8 - 14\",\"indoor\":0,\"lap\":1,\"alt_names\":\"Spangle\",\"adaptability\":5,\"affection_level\":5,\"child_friendly\":4,\"dog_friendly\":5,\"energy_level\":5,\"grooming\":3,\"health_issues\":3,\"intelligence\":5,\"shedding_level\":5,\"social_needs\":5,\"stranger_friendly\":3,\"vocalisation\":3,\"experimental\":0,\"hairless\":0,\"natural\":0,\"rare\":0,\"rex\":0,\"suppressed_tail\":1,\"short_legs\":0,\"wikipedia_url\":\"https://en.wikipedia.org/wiki/Cymric_(cat)\",\"hypoallergenic\":0,\"reference_image_id\":\"3dbtapCWM\"},{\"weight\":{\"imperial\":\"8 - 16\",\"metric\":\"4 - 7\"},\"id\":\"cypr\",\"name\":\"Cyprus\",\"temperament\":\"Affectionate, Social\",\"origin\":\"Cyprus\",\"country_codes\":\"CY\",\"country_code\":\"CY\",\"description\":\"Loving, loyal, social and inquisitive, the Cyprus cat forms strong ties with their families and love nothing more than to be involved in everything that goes on in their surroundings. They are not overly active by nature which makes them the perfect companion for people who would like to share their homes with a laid-back relaxed feline companion. \",\"life_span\":\"12 - 15\",\"indoor\":0,\"lap\":1,\"alt_names\":\"Cypriot cat\",\"adaptability\":5,\"affection_level\":5,\"child_friendly\":4,\"dog_friendly\":5,\"energy_level\":4,\"grooming\":3,\"health_issues\":1,\"intelligence\":3,\"shedding_level\":3,\"social_needs\":3,\"stranger_friendly\":4,\"vocalisation\":3,\"experimental\":0,\"hairless\":0,\"natural\":1,\"rare\":0,\"rex\":0,\"suppressed_tail\":0,\"short_legs\":0,\"wikipedia_url\":\"https://en.wikipedia.org/wiki/Cyprus_cat\",\"hypoallergenic\":0,\"reference_image_id\":\"tJbzb7FKo\"},{\"weight\":{\"imperial\":\"5 - 10\",\"metric\":\"2 - 5\"},\"id\":\"drex\",\"name\":\"Devon Rex\",\"cfa_url\":\"http://cfa.org/Breeds/BreedsCJ/DevonRex.aspx\",\"vetstreet_url\":\"http://www.vetstreet.com/cats/devon-rex\",\"vcahospitals_url\":\"https://vcahospitals.com/know-your-pet/cat-breeds/devon-rex\",\"temperament\":\"Highly interactive, Mischievous, Loyal, Social, Playful\",\"origin\":\"United Kingdom\",\"country_codes\":\"GB\",\"country_code\":\"GB\",\"description\":\"The favourite perch of the Devon Rex is right at head level, on the shoulder of her favorite person. She takes a lively interest in everything that is going on and refuses to be left out of any activity. Count on her to stay as close to you as possible, occasionally communicating his opinions in a quiet voice. She loves people and welcomes the attentions of friends and family alike.\",\"life_span\":\"10 - 15\",\"indoor\":0,\"lap\":1,\"alt_names\":\"Pixie cat, Alien cat, Poodle cat\",\"adaptability\":5,\"affection_level\":5,\"child_friendly\":4,\"dog_friendly\":5,\"energy_level\":5,\"grooming\":1,\"health_issues\":3,\"intelligence\":5,\"shedding_level\":1,\"social_needs\":5,\"stranger_friendly\":5,\"vocalisation\":1,\"experimental\":0,\"hairless\":0,\"natural\":0,\"rare\":0,\"rex\":1,\"suppressed_tail\":0,\"short_legs\":0,\"wikipedia_url\":\"https://en.wikipedia.org/wiki/Devon_Rex\",\"hypoallergenic\":1,\"reference_image_id\":\"4RzEwvyzz\"},{\"weight\":{\"imperial\":\"10 - 12\",\"metric\":\"5 - 6\"},\"id\":\"dons\",\"name\":\"Donskoy\",\"temperament\":\"Playful, affectionate, loyal, social\",\"origin\":\"Russia\",\"country_codes\":\"RU\",\"country_code\":\"RU\",\"description\":\"Donskoy are affectionate, intelligent, and easy-going. They demand lots of attention and interaction. The Donskoy also gets along well with other pets. It is now thought the same gene that causes degrees of hairlessness in the Donskoy also causes alterations in cat personality, making them calmer the less hair they have.\",\"life_span\":\"12 - 15\",\"indoor\":0,\"adaptability\":4,\"affection_level\":4,\"child_friendly\":3,\"cat_friendly\":3,\"dog_friendly\":3,\"energy_level\":4,\"grooming\":2,\"health_issues\":3,\"intelligence\":3,\"shedding_level\":1,\"social_needs\":5,\"stranger_friendly\":5,\"vocalisation\":2,\"experimental\":0,\"hairless\":1,\"natural\":0,\"rare\":1,\"rex\":0,\"suppressed_tail\":0,\"short_legs\":0,\"wikipedia_url\":\"https://en.wikipedia.org/wiki/Donskoy_(cat)\",\"hypoallergenic\":0,\"reference_image_id\":\"3KG57GfMW\"},{\"weight\":{\"imperial\":\"9 - 12\",\"metric\":\"4 - 6\"},\"id\":\"lihu\",\"name\":\"Dragon Li\",\"vetstreet_url\":\"http://www.vetstreet.com/cats/li-hua\",\"temperament\":\"Intelligent, Friendly, Gentle, Loving, Loyal\",\"origin\":\"China\",\"country_codes\":\"CN\",\"country_code\":\"CN\",\"description\":\"The Dragon Li is loyal, but not particularly affectionate. They are known to be very intelligent, and their natural breed status means that they\\'re very active. She is is gentle with people, and has a reputation as a talented hunter of rats and other vermin.\",\"life_span\":\"12 - 15\",\"indoor\":1,\"alt_names\":\"Chinese Lia Hua, Lí hua māo (貍花貓), Li Hua\",\"adaptability\":3,\"affection_level\":3,\"child_friendly\":3,\"cat_friendly\":3,\"dog_friendly\":3,\"energy_level\":3,\"grooming\":1,\"health_issues\":1,\"intelligence\":3,\"shedding_level\":3,\"social_needs\":4,\"stranger_friendly\":3,\"vocalisation\":3,\"experimental\":0,\"hairless\":0,\"natural\":1,\"rare\":0,\"rex\":0,\"suppressed_tail\":0,\"short_legs\":0,\"wikipedia_url\":\"https://en.wikipedia.org/wiki/Dragon_Li\",\"hypoallergenic\":0,\"reference_image_id\":\"BQMSld0A0\"},{\"weight\":{\"imperial\":\"6 - 14\",\"metric\":\"3 - 6\"},\"id\":\"emau\",\"name\":\"Egyptian Mau\",\"cfa_url\":\"http://cfa.org/Breeds/BreedsCJ/EgyptianMau.aspx\",\"vetstreet_url\":\"http://www.vetstreet.com/cats/egyptian-mau\",\"vcahospitals_url\":\"https://vcahospitals.com/know-your-pet/cat-breeds/egyptian-mau\",\"temperament\":\"Agile, Dependent, Gentle, Intelligent, Lively, Loyal, Playful\",\"origin\":\"Egypt\",\"country_codes\":\"EG\",\"country_code\":\"EG\",\"description\":\"The Egyptian Mau is gentle and reserved. She loves her people and desires attention and affection from them but is wary of others. Early, continuing socialization is essential with this sensitive and sometimes shy cat, especially if you plan to show or travel with her. Otherwise, she can be easily startled by unexpected noises or events.\",\"life_span\":\"18 - 20\",\"indoor\":0,\"lap\":1,\"alt_names\":\"Pharaoh Cat\",\"adaptability\":2,\"affection_level\":5,\"child_friendly\":3,\"dog_friendly\":3,\"energy_level\":5,\"grooming\":1,\"health_issues\":3,\"intelligence\":4,\"shedding_level\":3,\"social_needs\":4,\"stranger_friendly\":2,\"vocalisation\":3,\"experimental\":0,\"hairless\":0,\"natural\":1,\"rare\":0,\"rex\":0,\"suppressed_tail\":0,\"short_legs\":0,\"wikipedia_url\":\"https://en.wikipedia.org/wiki/Egyptian_Mau\",\"hypoallergenic\":0,\"reference_image_id\":\"TuSyTkt2n\"},{\"weight\":{\"imperial\":\"7 - 14\",\"metric\":\"3 - 6\"},\"id\":\"ebur\",\"name\":\"European Burmese\",\"cfa_url\":\"http://cfa.org/Breeds/BreedsCJ/EuropeanBurmese.aspx\",\"temperament\":\"Sweet, Affectionate, Loyal\",\"origin\":\"Burma\",\"country_codes\":\"MM\",\"country_code\":\"MM\",\"description\":\"The European Burmese is a very affectionate, intelligent, and loyal cat. They thrive on companionship and will want to be with you, participating in everything you do. While they might pick a favorite family member, chances are that they will interact with everyone in the home, as well as any visitors that come to call. They are inquisitive and playful, even as adults. \",\"life_span\":\"10 - 15\",\"indoor\":0,\"lap\":1,\"alt_names\":\"\",\"adaptability\":5,\"affection_level\":5,\"child_friendly\":4,\"cat_friendly\":4,\"dog_friendly\":4,\"energy_level\":4,\"grooming\":1,\"health_issues\":4,\"intelligence\":5,\"shedding_level\":3,\"social_needs\":5,\"stranger_friendly\":5,\"vocalisation\":4,\"experimental\":0,\"hairless\":0,\"natural\":0,\"rare\":0,\"rex\":0,\"suppressed_tail\":0,\"short_legs\":0,\"hypoallergenic\":0},{\"weight\":{\"imperial\":\"7 - 14\",\"metric\":\"3 - 6\"},\"id\":\"esho\",\"name\":\"Exotic Shorthair\",\"cfa_url\":\"http://cfa.org/Breeds/BreedsCJ/Exotic.aspx\",\"vetstreet_url\":\"http://www.vetstreet.com/cats/exotic-shorthair\",\"vcahospitals_url\":\"https://vcahospitals.com/know-your-pet/cat-breeds/exotic-shorthair\",\"temperament\":\"Affectionate, Sweet, Loyal, Quiet, Peaceful\",\"origin\":\"United States\",\"country_codes\":\"US\",\"country_code\":\"US\",\"description\":\"The Exotic Shorthair is a gentle friendly cat that has the same personality as the Persian. They love having fun, don’t mind the company of other cats and dogs, also love to curl up for a sleep in a safe place. Exotics love their own people, but around strangers they are cautious at first. Given time, they usually warm up to visitors.\",\"life_span\":\"12 - 15\",\"indoor\":0,\"lap\":1,\"alt_names\":\"Exotic\",\"adaptability\":5,\"affection_level\":5,\"child_friendly\":3,\"dog_friendly\":3,\"energy_level\":3,\"grooming\":2,\"health_issues\":3,\"intelligence\":3,\"shedding_level\":2,\"social_needs\":4,\"stranger_friendly\":2,\"vocalisation\":1,\"experimental\":0,\"hairless\":0,\"natural\":0,\"rare\":0,\"rex\":0,\"suppressed_tail\":0,\"short_legs\":0,\"wikipedia_url\":\"https://en.wikipedia.org/wiki/Exotic_Shorthair\",\"hypoallergenic\":0,\"reference_image_id\":\"YnPrYEmfe\"},{\"weight\":{\"imperial\":\"6 - 10\",\"metric\":\"3 - 5\"},\"id\":\"hbro\",\"name\":\"Havana Brown\",\"cfa_url\":\"http://cfa.org/Breeds/BreedsCJ/HavanaBrown.aspx\",\"vetstreet_url\":\"http://www.vetstreet.com/cats/havana-brown\",\"vcahospitals_url\":\"https://vcahospitals.com/know-your-pet/cat-breeds/havana-brown\",\"temperament\":\"Affectionate, Curious, Demanding, Friendly, Intelligent, Playful\",\"origin\":\"United Kingdom\",\"country_codes\":\"GB\",\"country_code\":\"GB\",\"description\":\"The Havana Brown is human oriented, playful, and curious. She has a strong desire to spend time with her people and involve herself in everything they do. Being naturally inquisitive, the Havana Brown reaches out with a paw to touch and feel when investigating curiosities in its environment. They are truly sensitive by nature and frequently gently touch their human companions as if they are extending a paw of friendship.\",\"life_span\":\"10 - 15\",\"indoor\":0,\"lap\":1,\"alt_names\":\"Havana, HB\",\"adaptability\":5,\"affection_level\":5,\"child_friendly\":4,\"dog_friendly\":5,\"energy_level\":3,\"grooming\":1,\"health_issues\":1,\"intelligence\":5,\"shedding_level\":3,\"social_needs\":5,\"stranger_friendly\":3,\"vocalisation\":1,\"experimental\":0,\"hairless\":0,\"natural\":0,\"rare\":0,\"rex\":0,\"suppressed_tail\":0,\"short_legs\":0,\"wikipedia_url\":\"https://en.wikipedia.org/wiki/Havana_Brown\",\"hypoallergenic\":0,\"reference_image_id\":\"njK25knLH\"},{\"weight\":{\"imperial\":\"7 - 14\",\"metric\":\"3 - 6\"},\"id\":\"hima\",\"name\":\"Himalayan\",\"vetstreet_url\":\"http://www.vetstreet.com/cats/himalayan\",\"vcahospitals_url\":\"https://vcahospitals.com/know-your-pet/cat-breeds/himalayan\",\"temperament\":\"Dependent, Gentle, Intelligent, Quiet, Social\",\"origin\":\"United States\",\"country_codes\":\"US\",\"country_code\":\"US\",\"description\":\"Calm and devoted, Himalayans make excellent companions, though they prefer a quieter home. They are playful in a sedate kind of way and enjoy having an assortment of toys. The Himalayan will stretch out next to you, sleep in your bed and even sit on your lap when she is in the mood.\",\"life_span\":\"9 - 15\",\"indoor\":0,\"lap\":1,\"alt_names\":\"Himalayan Persian, Colourpoint Persian, Longhaired Colourpoint, Himmy\",\"adaptability\":5,\"affection_level\":5,\"child_friendly\":2,\"dog_friendly\":2,\"energy_level\":1,\"grooming\":5,\"health_issues\":3,\"intelligence\":3,\"shedding_level\":4,\"social_needs\":4,\"stranger_friendly\":2,\"vocalisation\":1,\"experimental\":0,\"hairless\":0,\"natural\":0,\"rare\":0,\"rex\":0,\"suppressed_tail\":0,\"short_legs\":0,\"wikipedia_url\":\"https://en.wikipedia.org/wiki/Himalayan_(cat)\",\"hypoallergenic\":0,\"reference_image_id\":\"CDhOtM-Ig\"},{\"weight\":{\"imperial\":\"5 - 10\",\"metric\":\"2 - 5\"},\"id\":\"jbob\",\"name\":\"Japanese Bobtail\",\"cfa_url\":\"http://cfa.org/Breeds/BreedsCJ/JapaneseBobtail.aspx\",\"vetstreet_url\":\"http://www.vetstreet.com/cats/japanese-bobtail\",\"vcahospitals_url\":\"https://vcahospitals.com/know-your-pet/cat-breeds/japanese-bobtail\",\"temperament\":\"Active, Agile, Clever, Easy Going, Intelligent, Lively, Loyal, Playful, Social\",\"origin\":\"Japan\",\"country_codes\":\"JP\",\"country_code\":\"JP\",\"description\":\"The Japanese Bobtail is an active, sweet, loving and highly intelligent breed. They love to be with people and play seemingly endlessly. They learn their name and respond to it. They bring toys to people and play fetch with a favorite toy for hours. Bobtails are social and are at their best when in the company of people. They take over the house and are not intimidated. If a dog is in the house, Bobtails assume Bobtails are in charge.\",\"life_span\":\"14 - 16\",\"indoor\":0,\"lap\":1,\"alt_names\":\"Japanese Truncated Cat\",\"adaptability\":5,\"affection_level\":5,\"child_friendly\":4,\"dog_friendly\":5,\"energy_level\":5,\"grooming\":1,\"health_issues\":1,\"intelligence\":5,\"shedding_level\":3,\"social_needs\":5,\"stranger_friendly\":5,\"vocalisation\":5,\"experimental\":0,\"hairless\":0,\"natural\":1,\"rare\":0,\"rex\":0,\"suppressed_tail\":1,\"short_legs\":0,\"wikipedia_url\":\"https://en.wikipedia.org/wiki/Japanese_Bobtail\",\"hypoallergenic\":0,\"reference_image_id\":\"-tm9-znzl\"},{\"weight\":{\"imperial\":\"5 - 10\",\"metric\":\"2 - 5\"},\"id\":\"java\",\"name\":\"Javanese\",\"vetstreet_url\":\"http://www.vetstreet.com/cats/javanese\",\"vcahospitals_url\":\"https://vcahospitals.com/know-your-pet/cat-breeds/javanese\",\"temperament\":\"Active, Devoted, Intelligent, Playful\",\"origin\":\"United States\",\"country_codes\":\"US\",\"country_code\":\"US\",\"description\":\"Javanese are endlessly interested, intelligent and active. They tend to enjoy jumping to great heights, playing with fishing pole-type or other interactive toys and just generally investigating their surroundings. He will attempt to copy things you do, such as opening doors or drawers.\",\"life_span\":\"10 - 12\",\"indoor\":0,\"alt_names\":\"\\xa0\",\"adaptability\":4,\"affection_level\":5,\"child_friendly\":4,\"dog_friendly\":4,\"energy_level\":5,\"grooming\":1,\"health_issues\":3,\"intelligence\":5,\"shedding_level\":2,\"social_needs\":5,\"stranger_friendly\":3,\"vocalisation\":5,\"experimental\":0,\"hairless\":0,\"natural\":0,\"rare\":0,\"rex\":0,\"suppressed_tail\":0,\"short_legs\":0,\"wikipedia_url\":\"https://en.wikipedia.org/wiki/Javanese_cat\",\"hypoallergenic\":1,\"reference_image_id\":\"xoI_EpOKe\"},{\"weight\":{\"imperial\":\"8 - 12\",\"metric\":\"4 - 6\"},\"id\":\"khao\",\"name\":\"Khao Manee\",\"cfa_url\":\"http://cfa.org/Breeds/BreedsKthruR/KhaoManee.aspx\",\"temperament\":\"Calm, Relaxed, Talkative, Playful, Warm\",\"origin\":\"Thailand\",\"country_codes\":\"TH\",\"country_code\":\"TH\",\"description\":\"The Khao Manee is highly intelligent, with an extrovert and inquisitive nature, however they are also very calm and relaxed, making them an idea lap cat.\",\"life_span\":\"10 - 12\",\"indoor\":0,\"lap\":1,\"alt_names\":\"Diamond Eye cat\",\"adaptability\":4,\"affection_level\":4,\"child_friendly\":3,\"cat_friendly\":3,\"dog_friendly\":3,\"energy_level\":3,\"grooming\":3,\"health_issues\":1,\"intelligence\":4,\"shedding_level\":3,\"social_needs\":3,\"stranger_friendly\":3,\"vocalisation\":5,\"experimental\":0,\"hairless\":0,\"natural\":0,\"rare\":0,\"rex\":0,\"suppressed_tail\":0,\"short_legs\":0,\"wikipedia_url\":\"https://en.wikipedia.org/wiki/Khao_Manee\",\"hypoallergenic\":0,\"reference_image_id\":\"165ok6ESN\"},{\"weight\":{\"imperial\":\"7 - 11\",\"metric\":\"3 - 5\"},\"id\":\"kora\",\"name\":\"Korat\",\"cfa_url\":\"http://cfa.org/Breeds/BreedsKthruR/Korat.aspx\",\"vetstreet_url\":\"http://www.vetstreet.com/cats/korat\",\"vcahospitals_url\":\"https://vcahospitals.com/know-your-pet/cat-breeds/korat\",\"temperament\":\"Active, Loyal, highly intelligent, Expressive, Trainable\",\"origin\":\"Thailand\",\"country_codes\":\"TH\",\"country_code\":\"TH\",\"description\":\"The Korat is a natural breed, and one of the oldest stable cat breeds. They are highly intelligent and confident cats that can be fearless, although they are startled by loud sounds and sudden movements. Korats form strong bonds with their people and like to cuddle and stay nearby.\",\"life_span\":\"10 - 15\",\"indoor\":0,\"adaptability\":5,\"affection_level\":5,\"child_friendly\":4,\"dog_friendly\":5,\"energy_level\":3,\"grooming\":1,\"health_issues\":1,\"intelligence\":5,\"shedding_level\":3,\"social_needs\":5,\"stranger_friendly\":2,\"vocalisation\":3,\"experimental\":0,\"hairless\":0,\"natural\":0,\"rare\":1,\"rex\":0,\"suppressed_tail\":0,\"short_legs\":0,\"wikipedia_url\":\"https://en.wikipedia.org/wiki/Korat\",\"hypoallergenic\":0,\"reference_image_id\":\"DbwiefiaY\"},{\"weight\":{\"imperial\":\"8 - 15\",\"metric\":\"4 - 7\"},\"id\":\"kuri\",\"name\":\"Kurilian\",\"vetstreet_url\":\"http://www.vetstreet.com/cats/kurilian-bobtail\",\"temperament\":\"Independent, highly intelligent, clever, inquisitive, sociable, playful, trainable\",\"origin\":\"Russia\",\"country_codes\":\"RU\",\"country_code\":\"RU\",\"description\":\"The character of the Kurilian Bobtail is independent, highly intelligent, clever, inquisitive, sociable, playful, trainable, absent of aggression and very gentle. They are devoted to their humans and when allowed are either on the lap of or sleeping in bed with their owners.\",\"life_span\":\"15 - 20\",\"indoor\":0,\"adaptability\":5,\"affection_level\":5,\"child_friendly\":5,\"dog_friendly\":5,\"energy_level\":5,\"grooming\":1,\"health_issues\":1,\"intelligence\":5,\"shedding_level\":2,\"social_needs\":5,\"stranger_friendly\":5,\"vocalisation\":3,\"experimental\":0,\"hairless\":0,\"natural\":1,\"rare\":0,\"rex\":0,\"suppressed_tail\":1,\"short_legs\":0,\"wikipedia_url\":\"https://en.wikipedia.org/wiki/Kurilian_Bobtail\",\"hypoallergenic\":0,\"reference_image_id\":\"NZpO4pU56M\"},{\"weight\":{\"imperial\":\"6 - 10\",\"metric\":\"3 - 5\"},\"id\":\"lape\",\"name\":\"LaPerm\",\"cfa_url\":\"http://cfa.org/Breeds/BreedsKthruR/LaPerm.aspx\",\"vetstreet_url\":\"http://www.vetstreet.com/cats/laperm\",\"vcahospitals_url\":\"https://vcahospitals.com/know-your-pet/cat-breeds/laperm\",\"temperament\":\"Affectionate, Friendly, Gentle, Intelligent, Playful, Quiet\",\"origin\":\"Thailand\",\"country_codes\":\"TH\",\"country_code\":\"TH\",\"description\":\"LaPerms are gentle and affectionate but also very active. Unlike many active breeds, the LaPerm is also quite content to be a lap cat. The LaPerm will often follow your lead; that is, if they are busy playing and you decide to sit and relax, simply pick up your LaPerm and sit down with it, and it will stay in your lap, devouring the attention you give it.\",\"life_span\":\"10 - 15\",\"indoor\":0,\"lap\":1,\"alt_names\":\"Si-Sawat\",\"adaptability\":5,\"affection_level\":5,\"child_friendly\":4,\"dog_friendly\":5,\"energy_level\":4,\"grooming\":1,\"health_issues\":1,\"intelligence\":5,\"shedding_level\":3,\"social_needs\":4,\"stranger_friendly\":4,\"vocalisation\":3,\"experimental\":0,\"hairless\":0,\"natural\":0,\"rare\":0,\"rex\":1,\"suppressed_tail\":0,\"short_legs\":0,\"wikipedia_url\":\"https://en.wikipedia.org/wiki/LaPerm\",\"hypoallergenic\":1,\"reference_image_id\":\"aKbsEYjSl\"},{\"weight\":{\"imperial\":\"12 - 18\",\"metric\":\"5 - 8\"},\"id\":\"mcoo\",\"name\":\"Maine Coon\",\"cfa_url\":\"http://cfa.org/Breeds/BreedsKthruR/MaineCoon.aspx\",\"vetstreet_url\":\"http://www.vetstreet.com/cats/maine-coon\",\"vcahospitals_url\":\"https://vcahospitals.com/know-your-pet/cat-breeds/maine-coon\",\"temperament\":\"Adaptable, Intelligent, Loving, Gentle, Independent\",\"origin\":\"United States\",\"country_codes\":\"US\",\"country_code\":\"US\",\"description\":\"They are known for their size and luxurious long coat Maine Coons are considered a gentle giant. The good-natured and affable Maine Coon adapts well to many lifestyles and personalities. She likes being with people and has the habit of following them around, but isn’t needy. Most Maine Coons love water and they can be quite good swimmers.\",\"life_span\":\"12 - 15\",\"indoor\":0,\"lap\":1,\"alt_names\":\"Coon Cat, Maine Cat, Maine Shag, Snowshoe Cat, American Longhair, The Gentle Giants\",\"adaptability\":5,\"affection_level\":5,\"child_friendly\":4,\"dog_friendly\":5,\"energy_level\":3,\"grooming\":3,\"health_issues\":3,\"intelligence\":5,\"shedding_level\":3,\"social_needs\":3,\"stranger_friendly\":5,\"vocalisation\":1,\"experimental\":0,\"hairless\":0,\"natural\":1,\"rare\":0,\"rex\":0,\"suppressed_tail\":0,\"short_legs\":0,\"wikipedia_url\":\"https://en.wikipedia.org/wiki/Maine_Coon\",\"hypoallergenic\":0,\"reference_image_id\":\"OOD3VXAQn\"},{\"weight\":{\"imperial\":\"6 - 13\",\"metric\":\"3 - 6\"},\"id\":\"mala\",\"name\":\"Malayan\",\"temperament\":\"Affectionate, Interactive, Playful, Social\",\"origin\":\"United Kingdom\",\"country_codes\":\"GB\",\"country_code\":\"GB\",\"description\":\"Malayans love to explore and even enjoy traveling by way of a cat carrier. They are quite a talkative and rather loud cat with an apparent strong will. These cats will make sure that you give it the attention it seeks and always seem to want to be held and hugged. They will constantly interact with people, even strangers. They love to play and cuddle.\",\"life_span\":\"12 - 18\",\"indoor\":0,\"alt_names\":\"Asian\",\"adaptability\":5,\"affection_level\":5,\"child_friendly\":4,\"dog_friendly\":5,\"energy_level\":5,\"grooming\":1,\"health_issues\":1,\"intelligence\":3,\"shedding_level\":1,\"social_needs\":3,\"stranger_friendly\":3,\"vocalisation\":5,\"experimental\":0,\"hairless\":0,\"natural\":0,\"rare\":0,\"rex\":0,\"suppressed_tail\":0,\"short_legs\":0,\"wikipedia_url\":\"https://en.wikipedia.org/wiki/Asian_cat\",\"hypoallergenic\":0},{\"weight\":{\"imperial\":\"7 - 13\",\"metric\":\"3 - 6\"},\"id\":\"manx\",\"name\":\"Manx\",\"cfa_url\":\"http://cfa.org/Breeds/BreedsKthruR/Manx.aspx\",\"vetstreet_url\":\"http://www.vetstreet.com/cats/manx\",\"vcahospitals_url\":\"https://vcahospitals.com/know-your-pet/cat-breeds/manx\",\"temperament\":\"Easy Going, Intelligent, Loyal, Playful, Social\",\"origin\":\"Isle of Man\",\"country_codes\":\"IM\",\"country_code\":\"IM\",\"description\":\"The Manx is a placid, sweet cat that is gentle and playful. She never seems to get too upset about anything. She is a loving companion and adores being with people.\",\"life_span\":\"12 - 14\",\"indoor\":0,\"lap\":1,\"alt_names\":\"Manks, Stubbin, Rumpy\",\"adaptability\":5,\"affection_level\":5,\"child_friendly\":4,\"dog_friendly\":5,\"energy_level\":5,\"grooming\":1,\"health_issues\":3,\"intelligence\":5,\"shedding_level\":5,\"social_needs\":5,\"stranger_friendly\":3,\"vocalisation\":3,\"experimental\":0,\"hairless\":0,\"natural\":1,\"rare\":0,\"rex\":0,\"suppressed_tail\":1,\"short_legs\":0,\"wikipedia_url\":\"https://en.wikipedia.org/wiki/Manx_(cat)\",\"hypoallergenic\":0,\"reference_image_id\":\"fhYh2PDcC\"},{\"weight\":{\"imperial\":\"5 - 9\",\"metric\":\"2 - 4\"},\"id\":\"munc\",\"name\":\"Munchkin\",\"vetstreet_url\":\"http://www.vetstreet.com/cats/munchkin\",\"temperament\":\"Agile, Easy Going, Intelligent, Playful\",\"origin\":\"United States\",\"country_codes\":\"US\",\"country_code\":\"US\",\"description\":\"The Munchkin is an outgoing cat who enjoys being handled. She has lots of energy and is faster and more agile than she looks. The shortness of their legs does not seem to interfere with their running and leaping abilities.\",\"life_span\":\"10 - 15\",\"indoor\":0,\"lap\":1,\"alt_names\":\"\",\"adaptability\":5,\"affection_level\":5,\"child_friendly\":4,\"dog_friendly\":5,\"energy_level\":4,\"grooming\":2,\"health_issues\":3,\"intelligence\":5,\"shedding_level\":3,\"social_needs\":5,\"stranger_friendly\":5,\"vocalisation\":3,\"experimental\":0,\"hairless\":0,\"natural\":0,\"rare\":0,\"rex\":0,\"suppressed_tail\":0,\"short_legs\":1,\"wikipedia_url\":\"https://en.wikipedia.org/wiki/Munchkin_(cat)\",\"hypoallergenic\":0,\"reference_image_id\":\"j5cVSqLer\"},{\"weight\":{\"imperial\":\"7 - 11\",\"metric\":\"3 - 5\"},\"id\":\"nebe\",\"name\":\"Nebelung\",\"temperament\":\"Gentle, Quiet, Shy, Playful\",\"origin\":\"United States\",\"country_codes\":\"US\",\"country_code\":\"US\",\"description\":\"The Nebelung may have a reserved nature, but she loves to play (being especially fond of retrieving) and enjoys jumping or climbing to high places where she can study people and situations at her leisure before making up her mind about whether she wants to get involved.\",\"life_span\":\"11 - 16\",\"indoor\":0,\"lap\":1,\"alt_names\":\"Longhaired Russian Blue\",\"adaptability\":5,\"affection_level\":5,\"child_friendly\":4,\"dog_friendly\":4,\"energy_level\":3,\"grooming\":3,\"health_issues\":2,\"intelligence\":5,\"shedding_level\":3,\"social_needs\":3,\"stranger_friendly\":3,\"vocalisation\":1,\"experimental\":0,\"hairless\":0,\"natural\":0,\"rare\":1,\"rex\":0,\"suppressed_tail\":0,\"short_legs\":0,\"wikipedia_url\":\"https://en.wikipedia.org/wiki/Nebelung\",\"hypoallergenic\":0,\"reference_image_id\":\"OGTWqNNOt\"},{\"weight\":{\"imperial\":\"8 - 16\",\"metric\":\"4 - 7\"},\"id\":\"norw\",\"name\":\"Norwegian Forest Cat\",\"cfa_url\":\"http://cfa.org/Breeds/BreedsKthruR/NorwegianForestCat.aspx\",\"vetstreet_url\":\"http://www.vetstreet.com/cats/norwegian-forest-cat\",\"vcahospitals_url\":\"https://vcahospitals.com/know-your-pet/cat-breeds/norwegian-forest-cat\",\"temperament\":\"Sweet, Active, Intelligent, Social, Playful, Lively, Curious\",\"origin\":\"Norway\",\"country_codes\":\"NO\",\"country_code\":\"NO\",\"description\":\"The Norwegian Forest Cat is a sweet, loving cat. She appreciates praise and loves to interact with her parent. She makes a loving companion and bonds with her parents once she accepts them for her own. She is still a hunter at heart. She loves to chase toys as if they are real. She is territorial and patrols several times each day to make certain that all is fine.\",\"life_span\":\"12 - 16\",\"indoor\":0,\"alt_names\":\"Skogkatt / Skaukatt, Norsk Skogkatt / Norsk Skaukatt, Weegie\",\"adaptability\":5,\"affection_level\":5,\"child_friendly\":4,\"dog_friendly\":5,\"energy_level\":3,\"grooming\":2,\"health_issues\":3,\"intelligence\":4,\"shedding_level\":3,\"social_needs\":5,\"stranger_friendly\":5,\"vocalisation\":1,\"experimental\":0,\"hairless\":0,\"natural\":1,\"rare\":0,\"rex\":0,\"suppressed_tail\":0,\"short_legs\":0,\"wikipedia_url\":\"https://en.wikipedia.org/wiki/Norwegian_Forest_Cat\",\"hypoallergenic\":0,\"reference_image_id\":\"06dgGmEOV\"},{\"weight\":{\"imperial\":\"7 - 15\",\"metric\":\"3 - 7\"},\"id\":\"ocic\",\"name\":\"Ocicat\",\"cfa_url\":\"http://cfa.org/Breeds/BreedsKthruR/Ocicat.aspx\",\"vetstreet_url\":\"http://www.vetstreet.com/cats/ocicat\",\"vcahospitals_url\":\"https://vcahospitals.com/know-your-pet/cat-breeds/ocicat\",\"temperament\":\"Active, Agile, Curious, Demanding, Friendly, Gentle, Lively, Playful, Social\",\"origin\":\"United States\",\"country_codes\":\"US\",\"country_code\":\"US\",\"description\":\"Loyal and devoted to their owners, the Ocicat is intelligent, confident, outgoing, and seems to have many dog traits. They can be trained to fetch toys, walk on a lead, taught to \\'speak\\', come when called, and follow other commands. \",\"life_span\":\"12 - 14\",\"indoor\":0,\"alt_names\":\"\",\"adaptability\":5,\"affection_level\":5,\"child_friendly\":4,\"dog_friendly\":5,\"energy_level\":5,\"grooming\":1,\"health_issues\":3,\"intelligence\":5,\"shedding_level\":3,\"social_needs\":5,\"stranger_friendly\":5,\"vocalisation\":3,\"experimental\":0,\"hairless\":0,\"natural\":0,\"rare\":0,\"rex\":0,\"suppressed_tail\":0,\"short_legs\":0,\"wikipedia_url\":\"https://en.wikipedia.org/wiki/Ocicat\",\"hypoallergenic\":1,\"reference_image_id\":\"JAx-08Y0n\"},{\"weight\":{\"imperial\":\"5 - 10\",\"metric\":\"2 - 5\"},\"id\":\"orie\",\"name\":\"Oriental\",\"cfa_url\":\"http://cfa.org/Breeds/BreedsKthruR/Oriental.aspx\",\"vetstreet_url\":\"http://www.vetstreet.com/cats/oriental\",\"vcahospitals_url\":\"https://vcahospitals.com/know-your-pet/cat-breeds/oriental\",\"temperament\":\"Energetic, Affectionate, Intelligent, Social, Playful, Curious\",\"origin\":\"United States\",\"country_codes\":\"US\",\"country_code\":\"US\",\"description\":\"Orientals are passionate about the people in their lives. They become extremely attached to their humans, so be prepared for a lifetime commitment. When you are not available to entertain her, an Oriental will divert herself by jumping on top of the refrigerator, opening drawers, seeking out new hideaways.\",\"life_span\":\"12 - 14\",\"indoor\":0,\"lap\":1,\"alt_names\":\"Foreign Type\",\"adaptability\":5,\"affection_level\":5,\"child_friendly\":4,\"dog_friendly\":5,\"energy_level\":5,\"grooming\":1,\"health_issues\":3,\"intelligence\":5,\"shedding_level\":3,\"social_needs\":5,\"stranger_friendly\":3,\"vocalisation\":5,\"experimental\":0,\"hairless\":0,\"natural\":0,\"rare\":0,\"rex\":0,\"suppressed_tail\":0,\"short_legs\":0,\"wikipedia_url\":\"https://en.wikipedia.org/wiki/Oriental_Shorthair\",\"hypoallergenic\":1,\"reference_image_id\":\"LutjkZJpH\"},{\"weight\":{\"imperial\":\"9 - 14\",\"metric\":\"4 - 6\"},\"id\":\"pers\",\"name\":\"Persian\",\"cfa_url\":\"http://cfa.org/Breeds/BreedsKthruR/Persian.aspx\",\"vetstreet_url\":\"http://www.vetstreet.com/cats/persian\",\"vcahospitals_url\":\"https://vcahospitals.com/know-your-pet/cat-breeds/persian\",\"temperament\":\"Affectionate, loyal, Sedate, Quiet\",\"origin\":\"Iran (Persia)\",\"country_codes\":\"IR\",\"country_code\":\"IR\",\"description\":\"Persians are sweet, gentle cats that can be playful or quiet and laid-back. Great with families and children, they absolutely love to lounge around the house. While they don’t mind a full house or active kids, they’ll usually hide when they need some alone time.\",\"life_span\":\"14 - 15\",\"indoor\":0,\"lap\":1,\"alt_names\":\"Longhair, Persian Longhair, Shiraz, Shirazi\",\"adaptability\":5,\"affection_level\":5,\"child_friendly\":2,\"dog_friendly\":2,\"energy_level\":1,\"grooming\":5,\"health_issues\":3,\"intelligence\":3,\"shedding_level\":4,\"social_needs\":4,\"stranger_friendly\":2,\"vocalisation\":1,\"experimental\":0,\"hairless\":0,\"natural\":1,\"rare\":0,\"rex\":0,\"suppressed_tail\":0,\"short_legs\":0,\"wikipedia_url\":\"https://en.wikipedia.org/wiki/Persian_(cat)\",\"hypoallergenic\":0,\"reference_image_id\":\"-Zfz5z2jK\"},{\"weight\":{\"imperial\":\"8 - 17\",\"metric\":\"4 - 8\"},\"id\":\"pixi\",\"name\":\"Pixie-bob\",\"vetstreet_url\":\"http://www.vetstreet.com/cats/pixiebob\",\"temperament\":\"Affectionate, Social, Intelligent, Loyal\",\"origin\":\"United States\",\"country_codes\":\"US\",\"country_code\":\"US\",\"description\":\"Companionable and affectionate, the Pixie-bob wants to be an integral part of the family. The Pixie-Bob’s ability to bond with their humans along with their patient personas make them excellent companions for children.\",\"life_span\":\"13 - 16\",\"indoor\":0,\"lap\":1,\"alt_names\":\"\",\"adaptability\":5,\"affection_level\":5,\"child_friendly\":4,\"dog_friendly\":5,\"energy_level\":4,\"grooming\":1,\"health_issues\":2,\"intelligence\":5,\"shedding_level\":3,\"social_needs\":4,\"stranger_friendly\":4,\"vocalisation\":1,\"experimental\":0,\"hairless\":0,\"natural\":0,\"rare\":0,\"rex\":0,\"suppressed_tail\":1,\"short_legs\":0,\"wikipedia_url\":\"https://en.wikipedia.org/wiki/Pixiebob\",\"hypoallergenic\":0,\"reference_image_id\":\"z7fJRNeN6\"},{\"weight\":{\"imperial\":\"8 - 20\",\"metric\":\"4 - 9\"},\"id\":\"raga\",\"name\":\"Ragamuffin\",\"cfa_url\":\"http://cfa.org/Breeds/BreedsKthruR/Ragamuffin.aspx\",\"vetstreet_url\":\"http://www.vetstreet.com/cats/ragamuffin\",\"vcahospitals_url\":\"https://vcahospitals.com/know-your-pet/cat-breeds/ragamuffin\",\"temperament\":\"Affectionate, Friendly, Gentle, Calm\",\"origin\":\"United States\",\"country_codes\":\"US\",\"country_code\":\"US\",\"description\":\"The Ragamuffin is calm, even tempered and gets along well with all family members. Changes in routine generally do not upset her. She is an ideal companion for those in apartments, and with children due to her patient nature.\",\"life_span\":\"12 - 16\",\"indoor\":0,\"lap\":1,\"alt_names\":\"\",\"adaptability\":5,\"affection_level\":5,\"child_friendly\":4,\"dog_friendly\":5,\"energy_level\":3,\"grooming\":3,\"health_issues\":3,\"intelligence\":5,\"shedding_level\":3,\"social_needs\":3,\"stranger_friendly\":5,\"vocalisation\":1,\"experimental\":0,\"hairless\":0,\"natural\":0,\"rare\":0,\"rex\":0,\"suppressed_tail\":0,\"short_legs\":0,\"wikipedia_url\":\"https://en.wikipedia.org/wiki/Ragamuffin_cat\",\"hypoallergenic\":0,\"reference_image_id\":\"SMuZx-bFM\"},{\"weight\":{\"imperial\":\"12 - 20\",\"metric\":\"5 - 9\"},\"id\":\"ragd\",\"name\":\"Ragdoll\",\"cfa_url\":\"http://cfa.org/Breeds/BreedsKthruR/Ragdoll.aspx\",\"vetstreet_url\":\"http://www.vetstreet.com/cats/ragdoll\",\"vcahospitals_url\":\"https://vcahospitals.com/know-your-pet/cat-breeds/ragdoll\",\"temperament\":\"Affectionate, Friendly, Gentle, Quiet, Easygoing\",\"origin\":\"United States\",\"country_codes\":\"US\",\"country_code\":\"US\",\"description\":\"Ragdolls love their people, greeting them at the door, following them around the house, and leaping into a lap or snuggling in bed whenever given the chance. They are the epitome of a lap cat, enjoy being carried and collapsing into the arms of anyone who holds them.\",\"life_span\":\"12 - 17\",\"indoor\":0,\"lap\":1,\"alt_names\":\"Rag doll\",\"adaptability\":5,\"affection_level\":5,\"child_friendly\":4,\"dog_friendly\":5,\"energy_level\":3,\"grooming\":2,\"health_issues\":3,\"intelligence\":3,\"shedding_level\":3,\"social_needs\":5,\"stranger_friendly\":3,\"vocalisation\":1,\"experimental\":0,\"hairless\":0,\"natural\":0,\"rare\":0,\"rex\":0,\"suppressed_tail\":0,\"short_legs\":0,\"wikipedia_url\":\"https://en.wikipedia.org/wiki/Ragdoll\",\"hypoallergenic\":0,\"reference_image_id\":\"oGefY4YoG\"},{\"weight\":{\"imperial\":\"5 - 11\",\"metric\":\"2 - 5\"},\"id\":\"rblu\",\"name\":\"Russian Blue\",\"cfa_url\":\"http://cfa.org/Breeds/BreedsKthruR/RussianBlue.aspx\",\"vetstreet_url\":\"http://www.vetstreet.com/cats/russian-blue-nebelung\",\"vcahospitals_url\":\"https://vcahospitals.com/know-your-pet/cat-breeds/russian-blue\",\"temperament\":\"Active, Dependent, Easy Going, Gentle, Intelligent, Loyal, Playful, Quiet\",\"origin\":\"Russia\",\"country_codes\":\"RU\",\"country_code\":\"RU\",\"description\":\"Russian Blues are very loving and reserved. They do not like noisy households but they do like to play and can be quite active when outdoors. They bond very closely with their owner and are known to be compatible with other pets.\",\"life_span\":\"10 - 16\",\"indoor\":0,\"lap\":1,\"alt_names\":\"Archangel Blue, Archangel Cat\",\"adaptability\":3,\"affection_level\":3,\"child_friendly\":3,\"dog_friendly\":3,\"energy_level\":3,\"grooming\":3,\"health_issues\":1,\"intelligence\":3,\"shedding_level\":3,\"social_needs\":3,\"stranger_friendly\":1,\"vocalisation\":1,\"experimental\":0,\"hairless\":0,\"natural\":1,\"rare\":0,\"rex\":0,\"suppressed_tail\":0,\"short_legs\":0,\"wikipedia_url\":\"https://en.wikipedia.org/wiki/Russian_Blue\",\"hypoallergenic\":1,\"reference_image_id\":\"Rhj-JsTLP\"},{\"weight\":{\"imperial\":\"8 - 25\",\"metric\":\"4 - 11\"},\"id\":\"sava\",\"name\":\"Savannah\",\"vetstreet_url\":\"http://www.vetstreet.com/cats/savannah\",\"temperament\":\"Curious, Social, Intelligent, Loyal, Outgoing, Adventurous, Affectionate\",\"origin\":\"United States\",\"country_codes\":\"US\",\"country_code\":\"US\",\"description\":\"Savannah is the feline version of a dog. Actively seeking social interaction, they are given to pouting if left out. Remaining kitten-like through life. Profoundly loyal to immediate family members whilst questioning the presence of strangers. Making excellent companions that are loyal, intelligent and eager to be involved.\",\"life_span\":\"17 - 20\",\"indoor\":0,\"alt_names\":\"\",\"adaptability\":5,\"affection_level\":5,\"child_friendly\":4,\"dog_friendly\":5,\"energy_level\":5,\"grooming\":1,\"health_issues\":1,\"intelligence\":5,\"shedding_level\":3,\"social_needs\":5,\"stranger_friendly\":5,\"vocalisation\":1,\"experimental\":1,\"hairless\":0,\"natural\":0,\"rare\":0,\"rex\":0,\"suppressed_tail\":0,\"short_legs\":0,\"wikipedia_url\":\"https://en.wikipedia.org/wiki/Savannah_cat\",\"hypoallergenic\":0,\"reference_image_id\":\"a8nIYvs6S\"},{\"weight\":{\"imperial\":\"5 - 11\",\"metric\":\"2 - 5\"},\"id\":\"sfol\",\"name\":\"Scottish Fold\",\"cfa_url\":\"http://cfa.org/Breeds/BreedsSthruT/ScottishFold.aspx\",\"vetstreet_url\":\"http://www.vetstreet.com/cats/scottish-fold-highland-fold\",\"vcahospitals_url\":\"https://vcahospitals.com/know-your-pet/cat-breeds/scottish-fold\",\"temperament\":\"Affectionate, Intelligent, Loyal, Playful, Social, Sweet, Loving\",\"origin\":\"United Kingdom\",\"country_codes\":\"GB\",\"country_code\":\"GB\",\"description\":\"The Scottish Fold is a sweet, charming breed. She is an easy cat to live with and to care for. She is affectionate and is comfortable with all members of her family. Her tail should be handled gently. Folds are known for sleeping on their backs, and for sitting with their legs stretched out and their paws on their belly. This is called the \\\\\"Buddha Position\\\\\".\",\"life_span\":\"11 - 14\",\"indoor\":0,\"alt_names\":\"Scot Fold\",\"adaptability\":5,\"affection_level\":5,\"child_friendly\":4,\"dog_friendly\":5,\"energy_level\":3,\"grooming\":1,\"health_issues\":4,\"intelligence\":3,\"shedding_level\":3,\"social_needs\":3,\"stranger_friendly\":3,\"vocalisation\":1,\"experimental\":0,\"hairless\":0,\"natural\":0,\"rare\":0,\"rex\":0,\"suppressed_tail\":0,\"short_legs\":0,\"wikipedia_url\":\"https://en.wikipedia.org/wiki/Scottish_Fold\",\"hypoallergenic\":0,\"reference_image_id\":\"o9t0LDcsa\"},{\"weight\":{\"imperial\":\"6 - 16\",\"metric\":\"3 - 7\"},\"id\":\"srex\",\"name\":\"Selkirk Rex\",\"cfa_url\":\"http://cfa.org/Breeds/BreedsSthruT/SelkirkRex.aspx\",\"vetstreet_url\":\"http://www.vetstreet.com/cats/selkirk-rex\",\"vcahospitals_url\":\"https://vcahospitals.com/know-your-pet/cat-breeds/selkirk-rex\",\"temperament\":\"Active, Affectionate, Dependent, Gentle, Patient, Playful, Quiet, Social\",\"origin\":\"United States\",\"country_codes\":\"US\",\"country_code\":\"US\",\"description\":\"The Selkirk Rex is an incredibly patient, loving, and tolerant breed. The Selkirk also has a silly side and is sometimes described as clownish. She loves being a lap cat and will be happy to chat with you in a quiet voice if you talk to her. \",\"life_span\":\"14 - 15\",\"indoor\":0,\"lap\":1,\"alt_names\":\"Shepherd Cat\",\"adaptability\":5,\"affection_level\":5,\"child_friendly\":4,\"dog_friendly\":5,\"energy_level\":3,\"grooming\":2,\"health_issues\":4,\"intelligence\":3,\"shedding_level\":1,\"social_needs\":3,\"stranger_friendly\":3,\"vocalisation\":3,\"experimental\":0,\"hairless\":0,\"natural\":0,\"rare\":0,\"rex\":1,\"suppressed_tail\":0,\"short_legs\":0,\"wikipedia_url\":\"https://en.wikipedia.org/wiki/Selkirk_Rex\",\"hypoallergenic\":1,\"reference_image_id\":\"II9dOZmrw\"},{\"weight\":{\"imperial\":\"8 - 15\",\"metric\":\"4 - 7\"},\"id\":\"siam\",\"name\":\"Siamese\",\"cfa_url\":\"http://cfa.org/Breeds/BreedsSthruT/Siamese.aspx\",\"vetstreet_url\":\"http://www.vetstreet.com/cats/siamese\",\"vcahospitals_url\":\"https://vcahospitals.com/know-your-pet/cat-breeds/siamese\",\"temperament\":\"Active, Agile, Clever, Sociable, Loving, Energetic\",\"origin\":\"Thailand\",\"country_codes\":\"TH\",\"country_code\":\"TH\",\"description\":\"While Siamese cats are extremely fond of their people, they will follow you around and supervise your every move, being talkative and opinionated. They are a demanding and social cat, that do not like being left alone for long periods.\",\"life_span\":\"12 - 15\",\"indoor\":0,\"lap\":1,\"alt_names\":\"Siam, Thai Cat\",\"adaptability\":5,\"affection_level\":5,\"child_friendly\":4,\"dog_friendly\":5,\"energy_level\":5,\"grooming\":1,\"health_issues\":1,\"intelligence\":5,\"shedding_level\":2,\"social_needs\":5,\"stranger_friendly\":5,\"vocalisation\":5,\"experimental\":0,\"hairless\":0,\"natural\":0,\"rare\":0,\"rex\":0,\"suppressed_tail\":0,\"short_legs\":0,\"wikipedia_url\":\"https://en.wikipedia.org/wiki/Siamese_(cat)\",\"hypoallergenic\":1,\"reference_image_id\":\"ai6Jps4sx\"},{\"weight\":{\"imperial\":\"8 - 16\",\"metric\":\"4 - 7\"},\"id\":\"sibe\",\"name\":\"Siberian\",\"cfa_url\":\"http://cfa.org/Breeds/BreedsSthruT/Siberian.aspx\",\"vetstreet_url\":\"http://www.vetstreet.com/cats/siberian\",\"vcahospitals_url\":\"https://vcahospitals.com/know-your-pet/cat-breeds/siberian\",\"temperament\":\"Curious, Intelligent, Loyal, Sweet, Agile, Playful, Affectionate\",\"origin\":\"Russia\",\"country_codes\":\"RU\",\"country_code\":\"RU\",\"description\":\"The Siberians dog like temperament and affection makes the ideal lap cat and will live quite happily indoors. Very agile and powerful, the Siberian cat can easily leap and reach high places, including the tops of refrigerators and even doors. \",\"life_span\":\"12 - 15\",\"indoor\":0,\"lap\":1,\"alt_names\":\"Moscow Semi-longhair, HairSiberian Forest Cat\",\"adaptability\":5,\"affection_level\":5,\"child_friendly\":4,\"dog_friendly\":5,\"energy_level\":5,\"grooming\":2,\"health_issues\":2,\"intelligence\":5,\"shedding_level\":3,\"social_needs\":4,\"stranger_friendly\":3,\"vocalisation\":1,\"experimental\":0,\"hairless\":0,\"natural\":1,\"rare\":0,\"rex\":0,\"suppressed_tail\":0,\"short_legs\":0,\"wikipedia_url\":\"https://en.wikipedia.org/wiki/Siberian_(cat)\",\"hypoallergenic\":1,\"reference_image_id\":\"3bkZAjRh1\"},{\"weight\":{\"imperial\":\"5 - 8\",\"metric\":\"2 - 4\"},\"id\":\"sing\",\"name\":\"Singapura\",\"cfa_url\":\"http://cfa.org/Breeds/BreedsSthruT/Singapura.aspx\",\"vetstreet_url\":\"http://www.vetstreet.com/cats/singapura\",\"vcahospitals_url\":\"https://vcahospitals.com/know-your-pet/cat-breeds/singapura\",\"temperament\":\"Affectionate, Curious, Easy Going, Intelligent, Interactive, Lively, Loyal\",\"origin\":\"Singapore\",\"country_codes\":\"SP\",\"country_code\":\"SP\",\"description\":\"The Singapura is usually cautious when it comes to meeting new people, but loves attention from his family so much that she sometimes has the reputation of being a pest. This is a highly active, curious and affectionate cat. She may be small, but she knows she’s in charge\",\"life_span\":\"12 - 15\",\"indoor\":0,\"lap\":1,\"alt_names\":\"Drain Cat, Kucinta, Pura\",\"adaptability\":5,\"affection_level\":5,\"child_friendly\":4,\"dog_friendly\":5,\"energy_level\":5,\"grooming\":1,\"health_issues\":1,\"intelligence\":5,\"shedding_level\":3,\"social_needs\":5,\"stranger_friendly\":5,\"vocalisation\":1,\"experimental\":0,\"hairless\":0,\"natural\":0,\"rare\":0,\"rex\":0,\"suppressed_tail\":0,\"short_legs\":0,\"wikipedia_url\":\"https://en.wikipedia.org/wiki/Singapura_(cat)\",\"hypoallergenic\":0,\"reference_image_id\":\"Qtncp2nRe\"},{\"weight\":{\"imperial\":\"7 - 12\",\"metric\":\"3 - 5\"},\"id\":\"snow\",\"name\":\"Snowshoe\",\"temperament\":\"Affectionate, Social, Intelligent, Sweet-tempered\",\"origin\":\"United States\",\"country_codes\":\"US\",\"country_code\":\"US\",\"description\":\"The Snowshoe is a vibrant, energetic, affectionate and intelligent cat. They love being around people which makes them ideal for families, and becomes unhappy when left alone for long periods of time. Usually attaching themselves to one person, they do whatever they can to get your attention.\",\"life_span\":\"14 - 19\",\"indoor\":0,\"lap\":1,\"alt_names\":\"\",\"adaptability\":5,\"affection_level\":5,\"child_friendly\":4,\"dog_friendly\":5,\"energy_level\":4,\"grooming\":3,\"health_issues\":1,\"intelligence\":5,\"shedding_level\":3,\"social_needs\":4,\"stranger_friendly\":4,\"vocalisation\":5,\"experimental\":0,\"hairless\":0,\"natural\":0,\"rare\":0,\"rex\":0,\"suppressed_tail\":0,\"short_legs\":0,\"wikipedia_url\":\"https://en.wikipedia.org/wiki/Snowshoe_(cat)\",\"hypoallergenic\":0,\"reference_image_id\":\"MK-sYESvO\"},{\"weight\":{\"imperial\":\"6 - 12\",\"metric\":\"3 - 5\"},\"id\":\"soma\",\"name\":\"Somali\",\"cfa_url\":\"http://cfa.org/Breeds/BreedsSthruT/Somali.aspx\",\"vetstreet_url\":\"http://www.vetstreet.com/cats/somali\",\"vcahospitals_url\":\"https://vcahospitals.com/know-your-pet/cat-breeds/somali\",\"temperament\":\"Mischievous, Tenacious, Intelligent, Affectionate, Gentle, Interactive, Loyal\",\"origin\":\"Somalia\",\"country_codes\":\"SO\",\"country_code\":\"SO\",\"description\":\"The Somali lives life to the fullest. He climbs higher, jumps farther, plays harder. Nothing escapes the notice of this highly intelligent and inquisitive cat. Somalis love the company of humans and other animals.\",\"life_span\":\"12 - 16\",\"indoor\":0,\"alt_names\":\"Fox Cat, Long-Haired Abyssinian\",\"adaptability\":5,\"affection_level\":5,\"child_friendly\":3,\"dog_friendly\":4,\"energy_level\":5,\"grooming\":3,\"health_issues\":2,\"intelligence\":5,\"shedding_level\":4,\"social_needs\":5,\"stranger_friendly\":5,\"vocalisation\":1,\"experimental\":0,\"hairless\":0,\"natural\":0,\"rare\":0,\"rex\":0,\"suppressed_tail\":0,\"short_legs\":0,\"wikipedia_url\":\"https://en.wikipedia.org/wiki/Somali_(cat)\",\"hypoallergenic\":0,\"reference_image_id\":\"EPF2ejNS0\"},{\"weight\":{\"imperial\":\"6 - 12\",\"metric\":\"3 - 5\"},\"id\":\"sphy\",\"name\":\"Sphynx\",\"cfa_url\":\"http://cfa.org/Breeds/BreedsSthruT/Sphynx.aspx\",\"vetstreet_url\":\"http://www.vetstreet.com/cats/sphynx\",\"vcahospitals_url\":\"https://vcahospitals.com/know-your-pet/cat-breeds/sphynx\",\"temperament\":\"Loyal, Inquisitive, Friendly, Quiet, Gentle\",\"origin\":\"Canada\",\"country_codes\":\"CA\",\"country_code\":\"CA\",\"description\":\"The Sphynx is an intelligent, inquisitive, extremely friendly people-oriented breed. Sphynx commonly greet their owners  at the front door, with obvious excitement and happiness. She has an unexpected sense of humor that is often at odds with her dour expression.\",\"life_span\":\"12 - 14\",\"indoor\":0,\"lap\":1,\"alt_names\":\"Canadian Hairless, Canadian Sphynx\",\"adaptability\":5,\"affection_level\":5,\"child_friendly\":4,\"dog_friendly\":5,\"energy_level\":3,\"grooming\":2,\"health_issues\":4,\"intelligence\":5,\"shedding_level\":1,\"social_needs\":5,\"stranger_friendly\":5,\"vocalisation\":5,\"experimental\":0,\"hairless\":1,\"natural\":0,\"rare\":1,\"rex\":0,\"suppressed_tail\":0,\"short_legs\":0,\"wikipedia_url\":\"https://en.wikipedia.org/wiki/Sphynx_(cat)\",\"hypoallergenic\":1,\"reference_image_id\":\"BDb8ZXb1v\"},{\"weight\":{\"imperial\":\"6 - 12\",\"metric\":\"3 - 5\"},\"id\":\"tonk\",\"name\":\"Tonkinese\",\"cfa_url\":\"http://cfa.org/Breeds/BreedsSthruT/Tonkinese.aspx\",\"vetstreet_url\":\"http://www.vetstreet.com/cats/tonkinese\",\"vcahospitals_url\":\"https://vcahospitals.com/know-your-pet/cat-breeds/tonkinese\",\"temperament\":\"Curious, Intelligent, Social, Lively, Outgoing, Playful, Affectionate\",\"origin\":\"Canada\",\"country_codes\":\"CA\",\"country_code\":\"CA\",\"description\":\"Intelligent and generous with their affection, a Tonkinese will supervise all activities with curiosity. Loving, social, active, playful, yet content to be a lap cat\",\"life_span\":\"14 - 16\",\"indoor\":0,\"lap\":1,\"alt_names\":\"Tonk\",\"adaptability\":5,\"affection_level\":5,\"child_friendly\":4,\"dog_friendly\":5,\"energy_level\":5,\"grooming\":1,\"health_issues\":1,\"intelligence\":5,\"shedding_level\":3,\"social_needs\":5,\"stranger_friendly\":5,\"vocalisation\":5,\"experimental\":0,\"hairless\":0,\"natural\":0,\"rare\":0,\"rex\":0,\"suppressed_tail\":0,\"short_legs\":0,\"wikipedia_url\":\"https://en.wikipedia.org/wiki/Tonkinese_(cat)\",\"hypoallergenic\":0,\"reference_image_id\":\"KBroiVNCM\"},{\"weight\":{\"imperial\":\"7 - 15\",\"metric\":\"3 - 7\"},\"id\":\"toyg\",\"name\":\"Toyger\",\"vetstreet_url\":\"http://www.vetstreet.com/cats/toyger\",\"temperament\":\"Playful, Social, Intelligent\",\"origin\":\"United States\",\"country_codes\":\"US\",\"country_code\":\"US\",\"description\":\"The Toyger has a sweet, calm personality and is generally friendly. He\\'s outgoing enough to walk on a leash, energetic enough to play fetch and other interactive games, and confident enough to get along with other cats and friendly dogs.\",\"life_span\":\"12 - 15\",\"indoor\":0,\"lap\":1,\"alt_names\":\"\",\"adaptability\":5,\"affection_level\":5,\"child_friendly\":4,\"dog_friendly\":5,\"energy_level\":5,\"grooming\":1,\"health_issues\":2,\"intelligence\":5,\"shedding_level\":3,\"social_needs\":3,\"stranger_friendly\":5,\"vocalisation\":5,\"experimental\":0,\"hairless\":0,\"natural\":0,\"rare\":0,\"rex\":0,\"suppressed_tail\":0,\"short_legs\":0,\"wikipedia_url\":\"https://en.wikipedia.org/wiki/Toyger\",\"hypoallergenic\":0,\"reference_image_id\":\"O3F3_S1XN\"},{\"weight\":{\"imperial\":\"5 - 10\",\"metric\":\"2 - 5\"},\"id\":\"tang\",\"name\":\"Turkish Angora\",\"cfa_url\":\"http://cfa.org/Breeds/BreedsSthruT/TurkishAngora.aspx\",\"vetstreet_url\":\"http://www.vetstreet.com/cats/turkish-angora\",\"vcahospitals_url\":\"https://vcahospitals.com/know-your-pet/cat-breeds/turkish-angora\",\"temperament\":\"Affectionate, Agile, Clever, Gentle, Intelligent, Playful, Social\",\"origin\":\"Turkey\",\"country_codes\":\"TR\",\"country_code\":\"TR\",\"description\":\"This is a smart and intelligent cat which bonds well with humans. With its affectionate and playful personality the Angora is a top choice for families. The Angora gets along great with other pets in the home, but it will make clear who is in charge, and who the house belongs to\",\"life_span\":\"15 - 18\",\"indoor\":0,\"alt_names\":\"Ankara\",\"adaptability\":5,\"affection_level\":5,\"child_friendly\":4,\"dog_friendly\":5,\"energy_level\":5,\"grooming\":2,\"health_issues\":2,\"intelligence\":5,\"shedding_level\":2,\"social_needs\":5,\"stranger_friendly\":5,\"vocalisation\":3,\"experimental\":0,\"hairless\":0,\"natural\":1,\"rare\":0,\"rex\":0,\"suppressed_tail\":0,\"short_legs\":0,\"wikipedia_url\":\"https://en.wikipedia.org/wiki/Turkish_Angora\",\"hypoallergenic\":0,\"reference_image_id\":\"7CGV6WVXq\"},{\"weight\":{\"imperial\":\"7 - 20\",\"metric\":\"3 - 9\"},\"id\":\"tvan\",\"name\":\"Turkish Van\",\"cfa_url\":\"http://cfa.org/Breeds/BreedsSthruT/TurkishVan.aspx\",\"vetstreet_url\":\"http://www.vetstreet.com/cats/turkish-van\",\"vcahospitals_url\":\"https://vcahospitals.com/know-your-pet/cat-breeds/turkish-van\",\"temperament\":\"Agile, Intelligent, Loyal, Playful, Energetic\",\"origin\":\"Turkey\",\"country_codes\":\"TR\",\"country_code\":\"TR\",\"description\":\"While the Turkish Van loves to jump and climb, play with toys, retrieve and play chase, she is is big and ungainly; this is one cat who doesn’t always land on his feet. While not much of a lap cat, the Van will be happy to cuddle next to you and sleep in your bed. \",\"life_span\":\"12 - 17\",\"indoor\":0,\"alt_names\":\"Turkish Cat, Swimming cat\",\"adaptability\":5,\"affection_level\":5,\"child_friendly\":4,\"dog_friendly\":5,\"energy_level\":5,\"grooming\":2,\"health_issues\":1,\"intelligence\":5,\"shedding_level\":3,\"social_needs\":4,\"stranger_friendly\":4,\"vocalisation\":5,\"experimental\":0,\"hairless\":0,\"natural\":1,\"rare\":0,\"rex\":0,\"suppressed_tail\":0,\"short_legs\":0,\"wikipedia_url\":\"https://en.wikipedia.org/wiki/Turkish_Van\",\"hypoallergenic\":0,\"reference_image_id\":\"sxIXJax6h\"},{\"weight\":{\"imperial\":\"12 - 18\",\"metric\":\"5 - 8\"},\"id\":\"ycho\",\"name\":\"York Chocolate\",\"temperament\":\"Playful, Social, Intelligent, Curious, Friendly\",\"origin\":\"United States\",\"country_codes\":\"US\",\"country_code\":\"US\",\"description\":\"York Chocolate cats are known to be true lap cats with a sweet temperament. They love to be cuddled and petted. Their curious nature makes them follow you all the time and participate in almost everything you do, even if it\\'s related to water: unlike many other cats, York Chocolates love it.\",\"life_span\":\"13 - 15\",\"indoor\":0,\"lap\":1,\"alt_names\":\"York\",\"adaptability\":5,\"affection_level\":5,\"child_friendly\":4,\"dog_friendly\":5,\"energy_level\":5,\"grooming\":3,\"health_issues\":1,\"intelligence\":5,\"shedding_level\":3,\"social_needs\":4,\"stranger_friendly\":4,\"vocalisation\":5,\"experimental\":0,\"hairless\":0,\"natural\":0,\"rare\":0,\"rex\":0,\"suppressed_tail\":0,\"short_legs\":0,\"wikipedia_url\":\"https://en.wikipedia.org/wiki/York_Chocolate\",\"hypoallergenic\":0,\"reference_image_id\":\"0SxW2SQ_S\"}]'"
      ]
     },
     "execution_count": 6,
     "metadata": {},
     "output_type": "execute_result"
    }
   ],
   "source": [
    "response = requests.get(\"https://api.thecatapi.com/v1/breeds\")\n",
    "\n",
    "response.text"
   ]
  },
  {
   "cell_type": "code",
   "execution_count": 7,
   "id": "f12404e4-c786-4608-b301-36d852bd80aa",
   "metadata": {},
   "outputs": [
    {
     "data": {
      "text/plain": [
       "<Response [200]>"
      ]
     },
     "execution_count": 7,
     "metadata": {},
     "output_type": "execute_result"
    }
   ],
   "source": [
    "request = response.request\n",
    "\n",
    "response"
   ]
  },
  {
   "cell_type": "code",
   "execution_count": 8,
   "id": "b215bf42-eb67-400d-a8b1-8a48e2c4c0c9",
   "metadata": {},
   "outputs": [
    {
     "data": {
      "text/plain": [
       "200"
      ]
     },
     "execution_count": 8,
     "metadata": {},
     "output_type": "execute_result"
    }
   ],
   "source": [
    "request = response.request\n",
    "\n",
    "response.status_code"
   ]
  },
  {
   "cell_type": "code",
   "execution_count": 9,
   "id": "85514e21-d42b-46d5-b108-123df233383e",
   "metadata": {},
   "outputs": [
    {
     "data": {
      "text/plain": [
       "'https://api.thecatapi.com/v1/breeds'"
      ]
     },
     "execution_count": 9,
     "metadata": {},
     "output_type": "execute_result"
    }
   ],
   "source": [
    "request = response.request\n",
    "\n",
    "request.url"
   ]
  },
  {
   "cell_type": "code",
   "execution_count": 10,
   "id": "18f99019-c616-4b7a-a1ef-66942a75d73e",
   "metadata": {},
   "outputs": [
    {
     "data": {
      "text/plain": [
       "{'User-Agent': 'python-requests/2.32.3', 'Accept-Encoding': 'gzip, deflate', 'Accept': '*/*', 'Connection': 'keep-alive'}"
      ]
     },
     "execution_count": 10,
     "metadata": {},
     "output_type": "execute_result"
    }
   ],
   "source": [
    "request = response.request\n",
    "\n",
    "request.headers\n"
   ]
  },
  {
   "cell_type": "code",
   "execution_count": 11,
   "id": "3a8f0e79-20ed-468d-a264-73b5a88bbf76",
   "metadata": {},
   "outputs": [
    {
     "data": {
      "text/plain": [
       "{'User-Agent': 'python-requests/2.32.3', 'Accept-Encoding': 'gzip, deflate', 'Accept': '*/*', 'Connection': 'keep-alive'}"
      ]
     },
     "execution_count": 11,
     "metadata": {},
     "output_type": "execute_result"
    }
   ],
   "source": [
    "response = requests.get(\"https://api.thecatapi.com/v1/breeds/abys\")\n",
    "\n",
    "response.request.headers\n"
   ]
  },
  {
   "cell_type": "code",
   "execution_count": 12,
   "id": "366f2c4a-0c97-46e0-9102-859ecc641d4a",
   "metadata": {},
   "outputs": [
    {
     "data": {
      "text/plain": [
       "{'x-dns-prefetch-control': 'off', 'x-frame-options': 'SAMEORIGIN', 'strict-transport-security': 'max-age=15552000; includeSubDomains', 'x-download-options': 'noopen', 'x-content-type-options': 'nosniff', 'x-xss-protection': '1; mode=block', 'vary': 'Origin', 'content-type': 'application/json; charset=utf-8', 'x-response-time': '1ms', 'X-Cloud-Trace-Context': '5dd57fd491393ee96a7958eb5f9bc390', 'Date': 'Tue, 05 Nov 2024 19:08:23 GMT', 'Server': 'Google Frontend', 'Content-Length': '1041'}"
      ]
     },
     "execution_count": 12,
     "metadata": {},
     "output_type": "execute_result"
    }
   ],
   "source": [
    "response = requests.get(\"https://api.thecatapi.com/v1/breeds/abys\")\n",
    "\n",
    "response.headers\n"
   ]
  },
  {
   "cell_type": "code",
   "execution_count": 13,
   "id": "0fae7811-71ec-4bc8-b232-350f85ba9daf",
   "metadata": {},
   "outputs": [
    {
     "data": {
      "text/plain": [
       "{'User-Agent': 'python-requests/2.32.3', 'Accept-Encoding': 'gzip, deflate', 'Accept': '*/*', 'Connection': 'keep-alive', 'X-Custom-Header': '<my-custom-header>'}"
      ]
     },
     "execution_count": 13,
     "metadata": {},
     "output_type": "execute_result"
    }
   ],
   "source": [
    " headers = {\"X-Custom-Header\": \"<my-custom-header>\"}\n",
    " response = requests.get(\"https://example.org\", headers=headers)\n",
    "response.request.headers"
   ]
  },
  {
   "cell_type": "code",
   "execution_count": 14,
   "id": "a2f5b1ad-8e7d-46a9-b01b-c3837cbb5e40",
   "metadata": {},
   "outputs": [
    {
     "data": {
      "text/plain": [
       "'application/json; charset=utf-8'"
      ]
     },
     "execution_count": 14,
     "metadata": {},
     "output_type": "execute_result"
    }
   ],
   "source": [
    "response = requests.get(\"https://api.thecatapi.com/v1/breeds/abys\")\n",
    "response.headers.get(\"Content-Type\")\n"
   ]
  },
  {
   "cell_type": "code",
   "execution_count": 15,
   "id": "ad80eee2-fdf7-4ea5-a89d-e4c8c9b83a6a",
   "metadata": {},
   "outputs": [
    {
     "data": {
      "text/plain": [
       "'image/png'"
      ]
     },
     "execution_count": 15,
     "metadata": {},
     "output_type": "execute_result"
    }
   ],
   "source": [
    "url = \"https://image-charts.com/chart?chs=700x125&cht=ls&chd=t:23,15,28\"\n",
    "response = requests.get(url)\n",
    "response.headers.get(\"Content-Type\")\n"
   ]
  },
  {
   "cell_type": "code",
   "execution_count": 17,
   "id": "10897ce5-938f-401a-9732-78199c2a709f",
   "metadata": {},
   "outputs": [
    {
     "data": {
      "text/plain": [
       "b'{\"weight\":{\"imperial\":\"7  -  10\",\"metric\":\"3 - 5\"},\"id\":\"abys\",\"name\":\"Abyssinian\",\"cfa_url\":\"http://cfa.org/Breeds/BreedsAB/Abyssinian.aspx\",\"vetstreet_url\":\"http://www.vetstreet.com/cats/abyssinian\",\"vcahospitals_url\":\"https://vcahospitals.com/know-your-pet/cat-breeds/abyssinian\",\"temperament\":\"Active, Energetic, Independent, Intelligent, Gentle\",\"origin\":\"Egypt\",\"country_codes\":\"EG\",\"country_code\":\"EG\",\"description\":\"The Abyssinian is easy to care for, and a joy to have in your home. They\\xe2\\x80\\x99re affectionate cats and love both people and other animals.\",\"life_span\":\"14 - 15\",\"indoor\":0,\"lap\":1,\"alt_names\":\"\",\"adaptability\":5,\"affection_level\":5,\"child_friendly\":3,\"dog_friendly\":4,\"energy_level\":5,\"grooming\":1,\"health_issues\":2,\"intelligence\":5,\"shedding_level\":2,\"social_needs\":5,\"stranger_friendly\":5,\"vocalisation\":1,\"experimental\":0,\"hairless\":0,\"natural\":1,\"rare\":0,\"rex\":0,\"suppressed_tail\":0,\"short_legs\":0,\"wikipedia_url\":\"https://en.wikipedia.org/wiki/Abyssinian_(cat)\",\"hypoallergenic\":0,\"reference_image_id\":\"0XYvRd7oD\"}'"
      ]
     },
     "execution_count": 17,
     "metadata": {},
     "output_type": "execute_result"
    }
   ],
   "source": [
    " response = requests.get(\"https://api.thecatapi.com/v1/breeds/abys\")\n",
    "response.headers.get(\"Content-Type\")\n",
    "response.content\n"
   ]
  },
  {
   "cell_type": "code",
   "execution_count": 18,
   "id": "505d18b7-f991-4e72-9e6b-a8086538a596",
   "metadata": {},
   "outputs": [
    {
     "data": {
      "text/plain": [
       "{'weight': {'imperial': '7  -  10', 'metric': '3 - 5'},\n",
       " 'id': 'abys',\n",
       " 'name': 'Abyssinian',\n",
       " 'cfa_url': 'http://cfa.org/Breeds/BreedsAB/Abyssinian.aspx',\n",
       " 'vetstreet_url': 'http://www.vetstreet.com/cats/abyssinian',\n",
       " 'vcahospitals_url': 'https://vcahospitals.com/know-your-pet/cat-breeds/abyssinian',\n",
       " 'temperament': 'Active, Energetic, Independent, Intelligent, Gentle',\n",
       " 'origin': 'Egypt',\n",
       " 'country_codes': 'EG',\n",
       " 'country_code': 'EG',\n",
       " 'description': 'The Abyssinian is easy to care for, and a joy to have in your home. They’re affectionate cats and love both people and other animals.',\n",
       " 'life_span': '14 - 15',\n",
       " 'indoor': 0,\n",
       " 'lap': 1,\n",
       " 'alt_names': '',\n",
       " 'adaptability': 5,\n",
       " 'affection_level': 5,\n",
       " 'child_friendly': 3,\n",
       " 'dog_friendly': 4,\n",
       " 'energy_level': 5,\n",
       " 'grooming': 1,\n",
       " 'health_issues': 2,\n",
       " 'intelligence': 5,\n",
       " 'shedding_level': 2,\n",
       " 'social_needs': 5,\n",
       " 'stranger_friendly': 5,\n",
       " 'vocalisation': 1,\n",
       " 'experimental': 0,\n",
       " 'hairless': 0,\n",
       " 'natural': 1,\n",
       " 'rare': 0,\n",
       " 'rex': 0,\n",
       " 'suppressed_tail': 0,\n",
       " 'short_legs': 0,\n",
       " 'wikipedia_url': 'https://en.wikipedia.org/wiki/Abyssinian_(cat)',\n",
       " 'hypoallergenic': 0,\n",
       " 'reference_image_id': '0XYvRd7oD'}"
      ]
     },
     "execution_count": 18,
     "metadata": {},
     "output_type": "execute_result"
    }
   ],
   "source": [
    "response = requests.get(\"https://api.thecatapi.com/v1/breeds/abys\")\n",
    "response.headers.get(\"Content-Type\")\n",
    "response.json()\n"
   ]
  },
  {
   "cell_type": "code",
   "execution_count": 19,
   "id": "66bd60d4-d1b4-4ccb-ae81-4b4481b3858e",
   "metadata": {},
   "outputs": [
    {
     "data": {
      "text/plain": [
       "b'\\x89PNG\\r\\n\\x1a\\n\\x00\\x00\\x00\\rIHDR\\x00\\x00\\x02\\xbc\\x00\\x00\\x00}\\x08\\x02\\x00\\x00\\x00\\xcf\\xf3\\',\\x00\\x00\\x0c\\xbeIDATx\\xda\\xec\\xda\\xbb\\x8a\"A\\x14\\x06\\xe0f\\x03\\x8d5\\x13s\\xdf\\xa6\\xfa\\x11D\\x05\\x15A\\x91\\xaeNT\\x94\\r\\xc4v\\x03\\xdb\\x07\\xf0\\x82\\x18\\xa9\\xef\\xa1xi;6\\xd7\\x16\\x051P\\xbc%\\xd2[\\xecAid\\x9d\\x19\\x06\\x87\\t\\xe6\\xff\"\\x7fN\\xd5\\t\\x8c\\x0e\\xa7K\\xb2\\x01\\x00\\x00\\x00>@\\xc2_\\x00\\x00\\x00\\x00\\x18\\x1a\\x00\\x00\\x00\\xbe\\xd6\\xf9|f\\x8cM&\\x13\\xfb\\x8b\\x1d\\x8fG\\xc6\\x98a\\x18\\xf6{\\xc6\\xe3\\xb18y\\xb9\\\\\\xecW\\xfb%\\x01\\x00\\x00\\xc0g\\xb9\\\\\\xaeB\\xa1\\x10\\x08\\x04\\xa4\\x1f\\x00\\x9b\\x06\\x00\\x00\\x80\\x17l\\x1a\\x9a\\xcd&s\\xd0u\\x9d\\x0e\\xac\\xd7\\xebH$\\xc2\\x18S\\x14\\xe5Y\\xccd2\\xf6\\xff,\\x97KQ\\xcdf\\xb3\\xd7\\xeb\\x956\\rB\\xb5Z\\xa5\\xeaj\\xb5\\xa2V\\x9cs\\x11\\xf7\\xfb}2\\x99l\\xb5Z\\xb4i\\xb8\\xaf%\\xfa\\xfd>\\xc5\\xe9t\\xea\\xec\\x1c\\x0e\\x87s\\xb9\\x9c\\xe8L\\xad(\\x8a\\xdf\\x87\\xc3\\x819\\xc8\\xb2,\\xaa\\xf8<\\x01\\x00\\x00\\xf0\\xca\\xa1!\\x1e\\x8f\\x0f\\x87C\\x11;\\x9dN\\xb9\\\\\\xaeT*T\\xa5\\xa8(\\xca\\xe9t\\x12\\xb1\\xdb\\xedj\\x9av\\x8f\\xedv\\xbbX,\\xd2\\x0cq\\xb8\\x11\\x17iJ\\xa0\\xc3\\x9csg\\xd4u\\xfd\\xa1*\\xceG\\xa3Q\\x11-\\xcb\\xa2\\xa1a4\\x1a\\xedv\\xbbz\\xbd\\x1e\\x8b\\xc5\\x06\\x83\\x81i\\x9a\"\\xda\\xff8\\xef\\xaa\\xaaJSB\\xaf\\xd7+\\x95J\\x0f1\\x91H\\x88\\xbb\\xc1`p6\\x9bah\\x00\\x00\\x00x\\xd9\\xd0\\xa0(\\xca\\xdb\\x91\\xa6\\x04\\xc30\\x9cQH\\xa7\\xd3\\x96eQ$\\xa2z\\x7f\\xc4\\xb0\\xd9l\\xe6\\xf3\\xf9=6\\x1a\\r\\xce\\xf9\\xb3\\xf8\\xf0\\xa6a\\xbb\\xdd\\x8a\\xe6\\xb2,?<\\x8f\\xa0\\xc5\\x83\\xe8\\xbcX,hJ0M\\xb3V\\xab\\xa9\\xaa\\xfa,\\xe2M\\x03\\x00\\x00\\xc07\\x0b\\x85B\\xf9|\\xde\\xef\\xf7\\xbb\\xdd\\xee?7\\xa9TJ\\xba\\xf1x<>\\x9fO\\xfa\\x14\\xaf\\xd7\\xabi\\xda\\xef\\xbf\\xec\\xda?h\\x1aQ\\x1c\\x07\\xf0\\xf7\\xae^Ki\\xe9AM\\xc1@\\x17\\x0b]\\n]\\xba\\xe8\\xe0R\\xe8\\x14\\xba\\x16:\\xb6S\\xa9\\x83\\xd4\\xa1x\\x14J(\\x94\\x0e.\\xdd:g9\\xa8C\\x06\\x97`\\xb6\\x04B\\xa6\\x08N\\xa2\\xa0C\\xc4\\\\r\\xe6\\x8cJL\\xee\\xce?\\xf7\\xf2\\x0bGTr$\\x84\\x80B\\xe4\\xfb\\xe1\\x94\\xf7\\xe3\\xde\\xbd\\xe1\\xa6/\\xf7\\xfb-/g2\\x19\\xe6C\\'\\x87B!v3\\xa2k!4\\x00\\x00\\x00LK \\x10\\x88F\\xa3\\xd5j\\xb5\\xd1hL\\x96\\x86a\\x8c\\xca~\\xbf_\\xab\\xd5J\\xa5\\x92$I\\xaf.\\x84\\xc3a\\xef\\x04\\xda\\x9cN\\xa7S\\xa9\\xd4\\xf5\\'\\xfb\\x15\\n\\x05\\x9ar\\xa8\\xd7\\xebt\\xb2\\xe38\\x9a\\xa6\\xe5\\xf3y*\\xcb\\xe5\\xb2\\xb7\\xa1R\\xa9\\xd0\\xc9\\xaa\\xaa\\xca\\xb2\\x1c\\x89D\\xa84M3\\x16\\x8bywE\\xbb\\xeb\\xee5\\xdd]\\xa3\\xf7\\x7f\\xc3\\xad\\xea\\xce\\xdfU\\xfb\\xb7\\x86\\xf6\\x04\\x00\\x00\\xc0\\xb4\\xda\\x13\\xde\\x1e\\x9ad\\x1cM>\\x12UU\\xaf*\\xfd\\xe8.\\x8dD\\xd0\\xe2R?b\\xf2\\xd9K\\xed\\t\\xcb\\xb2r\\xb9\\x9cW\\xd2L\\x837\\xcc\\xa8\\xeb\\xbam\\xdbTR\\xc7\\xc1{\\x96\\x82\\x08\\x8d5\\x082\\x18\\xba\\x87\\xed\\xef\\x9f\\xbfh?\\xfe8+\\xeb\\xe6\\xaf\\x95\\xa5\\x17\\xaf\\xb7?\\xfd\\xfc\\xf7\\xf1\\xeb\\xb7\\xa5\\x0f\\xed\\xb5\\xed\\xf7o\\xdf\\xedln\\xd1FN?$A\\x00\\x00\\x80\\x99)\\x16\\x8b\\xd9lVQ\\x94x<\\xcefN\\xd8=\\xd1h\\x0b\\xb3\\xe3\\xee\\x1f\\xd1%\\xf6\\x9b\\xae\\xd9\\xe1\\xcaci\\xf1)]|A9_<\\x7f\\xc6\\x1e\\xc8\\xcc\\x07\\xa1\\x01\\x00\\x00`\\xa6\\x92\\xc9$u\\x1f\\x12\\x89\\x04\\x9b>q\\xeaP,\\xa0p0N\\t\\x9d\\xae\\xb4\\xa0\\xf0\\xc5\\xe0DJ\\x082\\xf9\\x1e\\xf3Ah\\x00\\x00\\x00\\x98[\\xa2sB\\xb1`\\x9c\\x12\\xf4&\\x1b\\x0c\\xbd\\x8f\\x07\\xe3\\x94\\x10|\\xc28g\\xb7\\x12\\xc0+\\x06\\x00\\x00\\xb8{\\x86\\xaeh\\x1d\\x8f[\\x0c\\xb48h\\xf1\\x87\\xf7G-\\x06\\xfe\\xe6\\xe5\\xf9\\xbf\\xf2\\x88\\xdd\\x0c\\xbe4\\x00\\x00\\x00\\xcc\\x03a\\xf5\\xc4\\xe1-\\x07\\x11\\x10\\x1a\\x00\\x00\\x00\\xee\\x80\\xd9\\x0f\" 4\\x00\\x00\\x00`\\x10\\x813\\x1f\\x84\\x06\\x00\\x00\\x8095\\x18\\xd2\\xe4\\x810Z\\xee\\x19{g\\xd3\\xdbJu\\x06\\xe0s&\\x1f\\xb6\\xc73\\xf6\\xd8Il\\xb7H]\\xf7\\x1f\\xf4_U\\xad*u\\xd7M\\xd7\\xddTB\\xb4j7H\\x88\\r\\x0b@,\\x90X\\xc0\\x8a\\x05\\x0b$$$`\\x87\\x00\\xf1a\\xe7\\xda\\x1e\\x7f\\x8e\\x9d\\xd8>\\x87\\xf3A\\xc67\\xc4\\xe6\\x86{o.q\\xfc<\\x1a\\xbd:3\\xc9\\xea8\\x8e\\x1f\\xbd~\\xdf\\xf7\\xb4\\xfbn\\xd1W\\x9d\\x81\\xac\\x84A\\xabf2\\x07\\xb2Y\\x0bZu\\xd9\\xaa\\xc9rQl\\x02i\\x00\\x00\\x00x\\xb8\\xdf2\\xe4r\\xd0\\xb6\\xa2\\xa0\\x07\\xd3\\xe0\\xacj\\xe5 \\xb7\\x84fM\\x1c\\x1f\\x8a\\x1b \\r\\x00\\x00\\x00\\x0f\\xbf\\x10A\\xfd\\xd0\\xd3&vGb:\\x93g\\x89<\\xad\\xae\\x0b\\x11~\\x7f\"\\x0e\\x0f\\xc4\\xce\\xc2\\x18i\\x00\\x00\\x80_\\xc9\\xca\\xce]^~\\xf1\\xcd\\xe2\\x83O.^\\x7f\\x7f\\xf6\\xaf7\\xb2\\xbf\\xfe\\'\\xfb\\xdb\\x7f\\xcd\\xc2\\xdc^\\xbe\\xf7\\xf1\\xf2\\xd3/\\xcd/h\\xa5\\x1f\\x18\\xcci\\x00\\x00\\x00\\xf8E\\xdc\\xd1\\x0c>yp\\x95K\\xe8\\xcb\\xb0\\xe0\\n\\x15\\xeb\\xc1\\x1f\\x1a\\x07f\"\\xc2K\\xa72.\\x89\\xdbA\\xa6\\x01\\x00\\x00\\xe0!\\xa0\\xa6\\xf3\\xd5\\xd7\\x9d\\xc5G\\x9f_\\xbe\\xf5\\xe1\\xfc\\x95w\\xb2\\x7f\\xbc:\\xfd\\xf3\\xcb\\xb3\\x7f\\xbe6\\xff\\xff\\xbb\\xe6\\x89yn~\\xaa/\\x16\\xfaV\\x90i\\x00\\x00\\x00x`\\xed\\x8e\\xdd\\xa1/D0k\\xb1X\\xe6\\xed\\x8e\\x87\\x7f\\xfa\\xa3\\xcd%4\\xeb\"\\x90\\xec\\x15\\x99\\x06\\x00\\x00\\xd8\\x17\\xfc\\x01\\xd0\\xa6\\xda\\xc0\\xd4\\x1c\\xf8B\\x84\\xe9_^\\xc9\\x0b\\x11Lu\\x82\\xa9Q0\\xbf\\xc0>m\\x83\\xa3\\xb1\\x01\\x00`\\x7f\\xe7.KS\\x88P<f\\xafh\\xb9\\x04\\x00\\x00\\xe6.o\\x98\\xbb\\xcc^\\xf1\\xf5\\x04\\x00\\x00\\xeci\\xbb\\xe3\\xfc\\xdfof\\x7f\\xff\\xdf\\xa6vG\\xc5V=w\\xe4\\xf2\\xb3\\xafd\\x12\\xc98\\x94q\\t\\x85\\x02\\x00\\x80\\xfb\\xc5\\xe5Ru\\xdc\\xdce\\x93Hh\\xbb\\xc5\\xa3\\xa1L\\xcaA\\xab\\x1e\\xb4j\\xb2\\xe9b\\xab.\\xc3\\x02[\\xf5\\x02\\x90\\xf3\\x97\\xdf\\xd6\\xe9D\\x8f3=\\xbb\\xb4\\xeaP\\x8b\\xae\\xc5J(\\x13\\x17#\\x94\\x02\\x00\\x00\\xee\\x16=\\x9d\\xdb\\x16\\x067t\\xd9-R=\\xca\\x82f\\xe2\\xe5\\xc0\\x88\\x82\\x1f\\xc0,\\x0e\\xf9\\x96\\xe17\\xafiX\\xae\\xec\\xab5\\x9cn\\xbe\\xb2\\xb9\\x0c\\x8b\\xb2Z\\xde|UB!iG\\x01\\x00\\x80\\xa7nw\\xf4s\\x97\\xe7\\xf2\\xec\\xeat\\xc7\\xd3\\n\\xed\\x8e\\xbbW\\x08\\x89R\\x00\\x00\\xc0\\xb3\\xb2R:\\x1d\\x1bE\\xc8-A}\\xdb\\x95\\x07\\x81\\xd5\\x02\\xe3\\x07\\xb9%\\x9cT\\x05\\x1f\\x17;-\\r(\\x05\\x00\\x00<\\xe5\\xdc\\xe5\\xdc\\x12:\\xa9\\x8cC\\xa3\\x05\\xde\\x12hw\\xa4\\xe5\\xf2\\x8e\\x94\\xa2\\x8cu\\x02\\x00\\xec~\\xbbc]\\x1c1\\x83\\x18ixv\\x16+=\\x9c\\xfc\\xdc$\\x06S=rq\\xb9\\xba\\xe6\\x10\\x89\\xd1\\x08\\x1f\\xed-\\xe5\\xb2\\x00\\x00/\\x14\\xa5uo\\xa8\\xda\\xa9j\\xf7]GC_\\xb7Sq\\x18\\x98\\xe4\\x81l&\\xb6P\\xb1U\\x0f\\x9a5Y\\x8f\\xd9*\\xa4\\xe1\\xb7`\\xb1\\xf4\\x02\\xb1)\\xe6J\\x11\\xcaj\\x94\\xc7\\xb5U\\x94\\x8b\\xbc\\xc0\\x00\\x00O\\xcf\\xc2\\xb5;ZEp\\xed\\x0c&>\\x1a\\xcaj9od\\xb0\\xb1U\\xe3\\x9f-\\xd2\\xb0f\\x97\\x94bx\\xfdZ,s\\x81\\xc8#J\\x01\\x00\\xb0\\x11=\\x9e\\xd9.\\x86\\xce\\xc0\\x89\\xc2U\\xbbc#\\x91F\\x11\\x8c\\x1f\\xfc\\xceYB\\xb3\\xcePE\\xa4\\xe1>By&\\x00\\xc0]\\xa1\\x94\\xee\\x8fUw\\xb4\\xaeE\\xf8\\xbe\\'\\x96+yJ\\xbb#p\\xf6\\xc4sW\\x8a8\\xe4\\x8d\\x04\\x00;\\xd7\\xcb\\x90[\\x82j\\xf7e\\xa9`\\xfc \\xb7\\x04\\x1b\\xabe\\xb6\\n\\x90\\x06\\x94\\x02\\x00\\xe8e\\xa8\\xae\\xf3\\x07f\\xd1\\xaa\\x8bcz\\x19\\x00i\\xb8\\x0fJ1\\xced\\xf1x\\xabR\\xd4+(\\x05\\x00<\\xc7\\x89Iy\\xfe\\xc0V$|\\xd7\\x13\\x81|<\\x7f`\\x17\\'\\x15\\xbeo\\x05\\xa4aw\\x94\"3\\xb7\\x99\\x91}\\x1b\\xfb#\\x94\\x02\\x00\\x9e\\x02=\\xbb\\xd0\\x8f\\x86\\xba;\\xdc61\\xc9\\xba\\xc2K\\xa7\\x9c>\\x08H\\xc3CK\\x1ez\\x81\\xc8\\xe3\\xad\\x95\"\\x16A\\xc0\\x06\\x02\\xec\\xeb\\xb9\\x0c3y\\x96\\x183`b\\x12 \\rp\\x1b\\xa5\\x18\\xcb\\xe2\\x11J\\x01\\xf0\\x00\\xd3\\x93\\x83\\xc9\\xb6s\\x19rK\\xe0\\\\\\x06@\\x1a\\x00\\xa5\\x00\\xd8\\xbbw\\xb17\\x83u;Cw(\\xabQ\\x9e?\\xe0\\\\\\x06@\\x1a\\xe0\\xeeQJ\\x8fg[\\x07hNf2*m\\x9dv\\x15\\x97P\\n\\x80;yWvG\\xca\\x0eJ\\x1a\\xd8\\xa1\\xcb\\x1d7tY\\x087.\\xc9OT\\xb4\\x97<\\xa9R\\xcc\\x04H\\x03\\xdc\\'\\x94\\xd6\\xe3\\xecF\\xaf\\x87\\xb7\\x8a\\\\)B?\\xd8J&\\x91\\xbd\\xadE2v\\xebJ(\\x0e\\x99\\x01\\x07\\xf0\\x04\\xf4tn\\xcd\\xa0\\x9d\\xea\\xf3\\xd4YB_\\xf5\\xc62\\x89\\x02\\x7f(\\x83\\x89\\xcd\\x9a4\\x8b\\x88BE@\\x1a`\\xa7\\xd1Z\\x8f27\\x8a;\\xf3\\x1aa\\r#\\x9d\\x18\\x99\\xd0\\x83\\x89\\xf9\\x91,\\x1c\\xb9C\\xc2\\xbcU\\x98\\x18\\xd9\\x98\\x94E\\x1c\\x06I$\\nGl!\\xecc\\n!W\\x04\\x13;\\xa9X)\\x9f<\\xb0\\xb1ib\\x12\\x9c%\\x087 \\r\\xb0\\x7f,\\x96\\xdbG]]0\\x93\\x1b\\xf6\\xad\\xd7\\xd1D\\x19^\\x9f\\xa8xZ\\xa1P\\x11\\x90\\x06\\x80\\xdb\\x9do\\x9e=i\\x80fX\\xd8\\xac\\x14\\xb5X\\x1cPN\\x01\\xf7\\xeeP\\x86\\x8d\\xbd\\x8eLT\\x04\\xa4\\x01i\\x80\\x178\\xed*\\x9b\\xffr\\xd3\\x87\\x08\\x0b\\xd7\\x0e:\\xaf\\xc5\\xd4\\x90\\x03)\\x04\\x00\\xa4\\x01`k\\x1f\\xa90O\\xbcd\\xa4\\x13\\xbdZy\\x81\\xd8\\x10\\xc3\"G\\xec\\xc0\\xb3\\xa4\\x106\\x1d\\xcaP\\x13\\xc7\\xd4\\xe8\\x00 \\r\\xb0\\xb3\\x15\\xe9\\xbeB\\xd3\\xf5z\\x988\\xb1q0\\x15\\x93L\\xa5\\x13\\xa1\\xb5Ll\\x97\\x87o\\xfd\\xb0\\x8b\\xc4\\xc5\\xaayB+\\xe9^\\x9bh^\\x9f\\xa8:.v\\x87\\xb2Rv\\xfd\\x0b\\xbeJ\\xd1F\\xa4\\x13\\x00i\\x80}\\xe2r\\xe1{=\\x9cO\\xd8\\x85\\xbf\\xb5\\x92\\xe1\\xa7S\\x94\\x8b2*=.\\x16\".\\x05Id\\xa2Y\\xcbR\\x81-\\xdcyVJ\\xf7F\\xea|\\xa0\\xda}\\xdd\\x198E\\xe8\\x8b\\xc5*oq\\x0c\\x1a\\x89U\\x84FM\\x1c\\xd1\\xc8\\x00\\x804\\x00lC\\x0b#\\x10\\xbeq47\\t\\xaf\\x17b<\\xb3I\\x8b\\xe5\\xca\\xcf\\xa2\\xb8\\x12\\x0bg\\x12\\x95<o\\xc1\\x80\\x8a\\xfb\\xf7\\x82\\xa6c\\xf5h`\\xe5\\xe0|\\xa0\\xcfS\\x1b\\xd3\\xb1\\xacF\\xd6\\x0c|\\xbbc\\xc3DR\\x08\\x00H\\x03\\xc0\\x0b,\\xd2\\x14\\xd9\\x85\\xea\\x8f\\x85R7\\xab(\\xd6W\\x1c2\\xc8\\xef\\x8e\\xc7-\\xdf8\\xd4\\xf1 x\\xbcD\\xd1\\xacid\\x00@\\x1a\\x00\\xee\\xe5\\x80\\x8a\\xec\\xe2\\xda\\xed8\\xcbO%\\xdd\\xd0\\x00\\x92\\xc4\\xb2D\\xeb\\xc7m\\xed\\xcd\\xe6\\x0f|q\\xa2\\x17\\x85\\xef{\\xe6\\xa1q\\x82\\xc7\\x1b\\x1de#\\xa1\\x9b\\x06\\x00i\\x00\\xd8\\xd9D\\xc5d\\xe6\\xab(|\\xb5f^T\\xe1\\xcb6\\xe5A`\\xe7fF\\xa1\\xac\\xb8+*\\xb9\"M\\xbf\\xb0G\\x81\\x88\\xc2\\xd1\\x9e\\xfaAg`\\xe3\\xf9@uLL\\xf5|\\x114\\x12\\xe3\\x04\\xeb\\xd8\\xac\\xc9r\\x91?1\\x00\\xa4\\x01`_\\xd0\\xf3K\\xdf\\xe8\\xa1G\\xee\\x9a\\xcc\\x9cO\\xf8\\xc5\\xccx\\x86P\\xda\\xdb\\x83\\x89\\xf9BD?-\\xbc[\\xec\\xf0<M\\xa5uotU\\x82\\x90\\xeasW\\x880\\x9a\\x06\\xf5\\x8al\\xb8*\\xc5\\xb3\\xc4-\\x12\\x99D\\xfc\\xb5\\x00 \\r\\x00\\xf0\\xa4\\xaf?lI\\xe64\\xd7\\x08\\x13\\xc5\\xc4>\\xb1\\xb7\\xc66\\xa6s\\x19Y{\\xf0\\xb9\\na5\\xe2gI\\x8b\\xf0^4\\x05(\\xa5\\xd3\\x89\\xea\\x0e\\xed\\xac\\xa4\\xf3\\xab*\\xc5\\xdeH\\xc6\\xa1\\x93\\x03g\\x06\\x8dZ\\xd0\\xa8\\xca\\x93\\n}\\xb0\\x00H\\x03\\x00\\xdc\\x01J[\\x9f\\xf8I#2a\\x167\\x92\\x16\\xf2\\xf0@TB\\x97\\x99p\\x1a\\x11\\x87N2\\xecB\\x94\\x8b\\xae\\xe9\\xb4\\xf8\\x1c?\\xa7\\xf5\\xec\\xd2\\x97\\x1d\\xac\\xeb\\x0fL\\xfc\\xb1}\\xbb\\xd7i\\x18\\x86\\x020\\xea\\x04%((\\x95J\\x11\\xef\\xff\\x88eH\\xf3\\xd3@\\x8do\\x96,\\x0c\\x8c\\xd0\\x9e\\xa3\\xea\\xcaS*e\\xfa\\xe4\\xd8\\xe7\\xa1\\xfcc\\xbd\\x1dA\\xd8\\xbf2\\xbc\\x1f\\xddr\\x04\\xd1\\x00\\xfc!y\\xba\\xc6\\x97\\x8ea\\xfaa\\xd3\\xe22\\xe7\\xcb\\x14\\xdb\\x15m\\x93b\\xc7\\xa24D\\xfcR\\xccn_\\xb7Mj\\x9e\\xaa\\xee\\xb9\\xcc\\xd46q\\xd8p\\xfd\\xbc\\x9d\\x87x\\xc8G\\x99c\\x99\\xf1\\xe4\\xad\\x12\\xd2\\xd7\\xad\\xda\\xae-\\x94D\\xd8\\x17\\xa7\\x83\\xeb\\xa9 \\x1a\\x80{\\x90\\xa7%\\rQ\\x0fy\\x98\\xcbLc\\xccX\\x8fs\\x84\\xc5\\xb2\\xc6\\xa1\\xceq)3]\\xd7<\\xaf\\xa5\\x00\\xeaS\\x9f\\x0e/\\xf5k\\x1f\\x07,\\x8e\\xdb}\\x90\\xb7H\\x84\\xaa\\xef\\xbcOxP\\x19\\x00\\xe0\\x17D\\x03\\x00 \\x1a\\x00\\x00\\xd1\\x00\\x00\\x88\\x06\\x00@4\\x00\\x00\\xa2\\x01\\x00\\x10\\r\\x00\\x00\\xa2\\x01\\x00\\x10\\r\\x00\\x80h\\x00\\x00D\\x03\\x00 \\x1a\\x00\\x00\\xd1\\x00\\x00\\x88\\x06\\x00\\x00\\xd1\\x00\\x00\\x88\\x06\\x00@4\\x00\\x00\\xa2\\x01\\x00\\x10\\r\\x00\\x80h\\x00\\x00D\\x03\\x00\\x80h\\x00\\x00D\\x03\\x00 \\x1a\\x00\\x00\\xd1\\x00\\x00\\x88\\x06\\x00@4\\x00\\x00\\xa2\\x01\\x00@4\\x00\\x00\\xa2\\x01\\x00\\x10\\r\\x00\\x80h\\x00\\x00D\\x03\\x00 \\x1a\\x00\\x00\\xd1\\x00\\x00 \\x1a\\x00\\x00\\xd1\\x00\\x00\\x88\\x06\\x00@4\\x00\\x00\\xa2\\x01\\x00\\x10\\r\\x00\\x80h\\x00\\x00\\x10\\r\\x00\\x80h\\x00\\x00D\\x03\\x00 \\x1a\\x00\\x00\\xd1\\x00\\x00\\x88\\x06\\x00@4\\x00\\x00\\x88\\x06\\x00@4\\x00\\x00\\xa2\\x01\\x00\\x10\\r\\x00\\x80h\\x00\\x00D\\x03\\x00 \\x1a\\x00\\x00D\\x03\\x00 \\x1a\\x00\\x00\\xd1\\x00\\x00\\x88\\x06\\x00@4\\x00\\x00\\xff\\xde7\\x99mp]9[\\xf9\\xbc\\x00\\x00\\x00\\x00IEND\\xaeB`\\x82'"
      ]
     },
     "execution_count": 19,
     "metadata": {},
     "output_type": "execute_result"
    }
   ],
   "source": [
    "url = \"https://image-charts.com/chart?chs=700x125&cht=ls&chd=t:23,15,28\"\n",
    "response = requests.get(url)\n",
    "response.headers.get(\"Content-Type\")\n",
    "response.content\n"
   ]
  },
  {
   "cell_type": "code",
   "execution_count": 20,
   "id": "0a0af6a7-59d8-4e89-981d-2aacffebf745",
   "metadata": {},
   "outputs": [],
   "source": [
    "with open(\"chart.png\", mode=\"wb\") as file:\n",
    "    file.write(response.content)\n"
   ]
  },
  {
   "cell_type": "code",
   "execution_count": 22,
   "id": "054e4d66-19ac-4346-957c-3b40b65078c5",
   "metadata": {},
   "outputs": [],
   "source": [
    "url = \"https://image-charts.com/chart?chs=700x125&cht=ls&chd=t:23,15,28\"\n",
    "response = requests.get(url)\n",
    "with open(\"chart.png\", mode=\"wb\") as file:\n",
    "    file.write(response.content)"
   ]
  },
  {
   "cell_type": "code",
   "execution_count": 23,
   "id": "1fb12da8-ecbf-4413-a602-b9e54e03b65e",
   "metadata": {},
   "outputs": [
    {
     "data": {
      "text/plain": [
       "<Response [405]>"
      ]
     },
     "execution_count": 23,
     "metadata": {},
     "output_type": "execute_result"
    }
   ],
   "source": [
    "requests.post(\"https://api.thecatapi.com/v1/breeds/abys\")"
   ]
  },
  {
   "cell_type": "code",
   "execution_count": 24,
   "id": "2027fe7b-092e-419d-b226-e77a90d30e05",
   "metadata": {},
   "outputs": [
    {
     "data": {
      "text/plain": [
       "<Response [200]>"
      ]
     },
     "execution_count": 24,
     "metadata": {},
     "output_type": "execute_result"
    }
   ],
   "source": [
    "requests.get(\"https://api.thecatapi.com/v1/breeds/abys\")"
   ]
  },
  {
   "cell_type": "code",
   "execution_count": 25,
   "id": "4a7ecdbf-6805-469e-93b0-782e4cf724c6",
   "metadata": {},
   "outputs": [
    {
     "data": {
      "text/plain": [
       "<Response [405]>"
      ]
     },
     "execution_count": 25,
     "metadata": {},
     "output_type": "execute_result"
    }
   ],
   "source": [
    "requests.put(\"https://api.thecatapi.com/v1/breeds/abys\")"
   ]
  },
  {
   "cell_type": "code",
   "execution_count": 26,
   "id": "5b62ffc2-de63-4d30-8fce-688f7a66400f",
   "metadata": {},
   "outputs": [
    {
     "data": {
      "text/plain": [
       "<Response [405]>"
      ]
     },
     "execution_count": 26,
     "metadata": {},
     "output_type": "execute_result"
    }
   ],
   "source": [
    "requests.delete(\"https://api.thecatapi.com/v1/breeds/abys\")\n"
   ]
  },
  {
   "cell_type": "code",
   "execution_count": 27,
   "id": "76a2f023-2c75-486a-966c-bebc238090b9",
   "metadata": {},
   "outputs": [
    {
     "data": {
      "text/plain": [
       "{'results': [{'gender': 'female',\n",
       "   'name': {'title': 'Miss', 'first': 'Tiffany', 'last': 'Phillips'},\n",
       "   'location': {'street': {'number': 2507, 'name': 'Ash Dr'},\n",
       "    'city': 'Lancaster',\n",
       "    'state': 'Arkansas',\n",
       "    'country': 'United States',\n",
       "    'postcode': 82561,\n",
       "    'coordinates': {'latitude': '82.9621', 'longitude': '20.7485'},\n",
       "    'timezone': {'offset': '-11:00', 'description': 'Midway Island, Samoa'}},\n",
       "   'email': 'tiffany.phillips@example.com',\n",
       "   'login': {'uuid': 'eb304071-c0fe-417a-a974-71428d719622',\n",
       "    'username': 'crazyladybug201',\n",
       "    'password': 'instant',\n",
       "    'salt': 'b96eENjK',\n",
       "    'md5': 'dd2120e01f6fca7bda264006c2f4dbf4',\n",
       "    'sha1': '3b3a20dbdb84aa3a78111bf3393ba2152cddbef0',\n",
       "    'sha256': '9c0cafc1231e214b5e19d62d9d3840e6419316b947d16ae1b61c33506123f9f9'},\n",
       "   'dob': {'date': '1959-11-24T05:23:37.074Z', 'age': 64},\n",
       "   'registered': {'date': '2005-09-05T15:47:55.959Z', 'age': 19},\n",
       "   'phone': '(840) 641-1541',\n",
       "   'cell': '(882) 219-5787',\n",
       "   'id': {'name': 'SSN', 'value': '348-91-5153'},\n",
       "   'picture': {'large': 'https://randomuser.me/api/portraits/women/54.jpg',\n",
       "    'medium': 'https://randomuser.me/api/portraits/med/women/54.jpg',\n",
       "    'thumbnail': 'https://randomuser.me/api/portraits/thumb/women/54.jpg'},\n",
       "   'nat': 'US'}],\n",
       " 'info': {'seed': '8766bbcb32f25558',\n",
       "  'results': 1,\n",
       "  'page': 1,\n",
       "  'version': '1.4'}}"
      ]
     },
     "execution_count": 27,
     "metadata": {},
     "output_type": "execute_result"
    }
   ],
   "source": [
    "requests.get(\"https://randomuser.me/api/\").json()"
   ]
  },
  {
   "cell_type": "code",
   "execution_count": 28,
   "id": "f24dd653-77b7-435a-83c7-cd8b84a3d786",
   "metadata": {},
   "outputs": [
    {
     "data": {
      "text/plain": [
       "{'results': [{'gender': 'female',\n",
       "   'name': {'title': 'Mrs', 'first': 'Alexa', 'last': 'Griffin'},\n",
       "   'location': {'street': {'number': 4044, 'name': 'Mcclellan Rd'},\n",
       "    'city': 'Grants Pass',\n",
       "    'state': 'Missouri',\n",
       "    'country': 'United States',\n",
       "    'postcode': 62580,\n",
       "    'coordinates': {'latitude': '89.1424', 'longitude': '-177.3218'},\n",
       "    'timezone': {'offset': '-8:00',\n",
       "     'description': 'Pacific Time (US & Canada)'}},\n",
       "   'email': 'alexa.griffin@example.com',\n",
       "   'login': {'uuid': '58267579-2ea8-422a-80b0-33235c0afcf1',\n",
       "    'username': 'sadbear307',\n",
       "    'password': '3232',\n",
       "    'salt': 'k4PIjiPr',\n",
       "    'md5': 'b507adebe390a6466893b6425b8652f3',\n",
       "    'sha1': '091d4742ac9a68ee3782767c029cdcdc16771265',\n",
       "    'sha256': 'bde147fce52b71b050ab7c516b35a338b2f292d0de7a943193633062454ef1f5'},\n",
       "   'dob': {'date': '1956-12-28T12:05:25.295Z', 'age': 67},\n",
       "   'registered': {'date': '2005-03-15T11:32:11.444Z', 'age': 19},\n",
       "   'phone': '(470) 797-9015',\n",
       "   'cell': '(918) 825-7165',\n",
       "   'id': {'name': 'SSN', 'value': '449-88-2147'},\n",
       "   'picture': {'large': 'https://randomuser.me/api/portraits/women/21.jpg',\n",
       "    'medium': 'https://randomuser.me/api/portraits/med/women/21.jpg',\n",
       "    'thumbnail': 'https://randomuser.me/api/portraits/thumb/women/21.jpg'},\n",
       "   'nat': 'US'}],\n",
       " 'info': {'seed': '617af88459334577',\n",
       "  'results': 1,\n",
       "  'page': 1,\n",
       "  'version': '1.4'}}"
      ]
     },
     "execution_count": 28,
     "metadata": {},
     "output_type": "execute_result"
    }
   ],
   "source": [
    "requests.get(\"https://randomuser.me/api/?gender=female\").json()"
   ]
  },
  {
   "cell_type": "code",
   "execution_count": 29,
   "id": "f67bc978-9af6-4c7a-839e-03d05780e179",
   "metadata": {},
   "outputs": [
    {
     "data": {
      "text/plain": [
       "{'results': [{'gender': 'female',\n",
       "   'name': {'title': 'Ms', 'first': 'Sylvie', 'last': 'Holzner'},\n",
       "   'location': {'street': {'number': 9804, 'name': 'Schillerstraße'},\n",
       "    'city': 'Bad Lausick',\n",
       "    'state': 'Nordrhein-Westfalen',\n",
       "    'country': 'Germany',\n",
       "    'postcode': 85706,\n",
       "    'coordinates': {'latitude': '-52.2271', 'longitude': '147.3362'},\n",
       "    'timezone': {'offset': '-3:30', 'description': 'Newfoundland'}},\n",
       "   'email': 'sylvie.holzner@example.com',\n",
       "   'login': {'uuid': '5e5fd09d-e27e-41c0-94d1-20e4b9718ce9',\n",
       "    'username': 'ticklishbird246',\n",
       "    'password': 'contortionist',\n",
       "    'salt': '5hC5gVaK',\n",
       "    'md5': '13d1d509434962c50547b4074fa2be57',\n",
       "    'sha1': '0a195666cbc642fb6c77cdf875c790f4451f6f30',\n",
       "    'sha256': '4bd907ed1eec0a950fb3b195f3b87dd592b6e5f08dfcc4ce9eb3182ba7f1ab4c'},\n",
       "   'dob': {'date': '1946-07-02T18:29:28.217Z', 'age': 78},\n",
       "   'registered': {'date': '2020-04-18T16:23:45.409Z', 'age': 4},\n",
       "   'phone': '0764-1578660',\n",
       "   'cell': '0172-3576903',\n",
       "   'id': {'name': 'SVNR', 'value': '56 020746 H 994'},\n",
       "   'picture': {'large': 'https://randomuser.me/api/portraits/women/26.jpg',\n",
       "    'medium': 'https://randomuser.me/api/portraits/med/women/26.jpg',\n",
       "    'thumbnail': 'https://randomuser.me/api/portraits/thumb/women/26.jpg'},\n",
       "   'nat': 'DE'}],\n",
       " 'info': {'seed': 'c5e9a09ec3798789',\n",
       "  'results': 1,\n",
       "  'page': 1,\n",
       "  'version': '1.4'}}"
      ]
     },
     "execution_count": 29,
     "metadata": {},
     "output_type": "execute_result"
    }
   ],
   "source": [
    "requests.get(\"https://randomuser.me/api/?gender=female&nat=de\").json()"
   ]
  },
  {
   "cell_type": "code",
   "execution_count": 30,
   "id": "4cf7a218-30f2-4eb7-83cb-a9dac87fa35a",
   "metadata": {},
   "outputs": [
    {
     "data": {
      "text/plain": [
       "{'results': [{'gender': 'female',\n",
       "   'name': {'title': 'Mrs', 'first': 'Lena', 'last': 'Wehr'},\n",
       "   'location': {'street': {'number': 3865, 'name': 'Goethestraße'},\n",
       "    'city': 'Meersburg',\n",
       "    'state': 'Rheinland-Pfalz',\n",
       "    'country': 'Germany',\n",
       "    'postcode': 50085,\n",
       "    'coordinates': {'latitude': '23.1152', 'longitude': '29.4835'},\n",
       "    'timezone': {'offset': '-1:00',\n",
       "     'description': 'Azores, Cape Verde Islands'}},\n",
       "   'email': 'lena.wehr@example.com',\n",
       "   'login': {'uuid': 'e56668a7-fb8a-443d-b222-cfcc04d89ab0',\n",
       "    'username': 'blackcat789',\n",
       "    'password': 'bmwbmw',\n",
       "    'salt': '7QIOrlYB',\n",
       "    'md5': 'adf3e79d46160ff1ac4480614affb0cb',\n",
       "    'sha1': '3c21675dd6351318063dc84d507ea4e278fcc6a5',\n",
       "    'sha256': '1ab9e27dfa0fa5a5fba8042d7b1c0e81605af6486e90ac5f49a8ef0d5a157726'},\n",
       "   'dob': {'date': '1999-03-22T23:34:30.453Z', 'age': 25},\n",
       "   'registered': {'date': '2018-05-20T00:24:54.134Z', 'age': 6},\n",
       "   'phone': '0028-5667064',\n",
       "   'cell': '0171-6260179',\n",
       "   'id': {'name': 'SVNR', 'value': '29 220399 W 596'},\n",
       "   'picture': {'large': 'https://randomuser.me/api/portraits/women/73.jpg',\n",
       "    'medium': 'https://randomuser.me/api/portraits/med/women/73.jpg',\n",
       "    'thumbnail': 'https://randomuser.me/api/portraits/thumb/women/73.jpg'},\n",
       "   'nat': 'DE'}],\n",
       " 'info': {'seed': '50e1fe91d7e1f08c',\n",
       "  'results': 1,\n",
       "  'page': 1,\n",
       "  'version': '1.4'}}"
      ]
     },
     "execution_count": 30,
     "metadata": {},
     "output_type": "execute_result"
    }
   ],
   "source": [
    "query_params = {\"gender\": \"female\", \"nat\": \"de\"}\n",
    "\n",
    "requests.get(\"https://randomuser.me/api/\", params=query_params).json()"
   ]
  },
  {
   "cell_type": "code",
   "execution_count": 31,
   "id": "0483940e-5182-43ad-8ebe-c6a234d54a29",
   "metadata": {},
   "outputs": [
    {
     "ename": "IndentationError",
     "evalue": "expected an indented block after 'for' statement on line 8 (1156039516.py, line 9)",
     "output_type": "error",
     "traceback": [
      "\u001b[1;36m  Cell \u001b[1;32mIn[31], line 9\u001b[1;36m\u001b[0m\n\u001b[1;33m    volume = book[\"volumeInfo\"]\u001b[0m\n\u001b[1;37m    ^\u001b[0m\n\u001b[1;31mIndentationError\u001b[0m\u001b[1;31m:\u001b[0m expected an indented block after 'for' statement on line 8\n"
     ]
    }
   ],
   "source": [
    "import requests\n",
    "\n",
    "endpoint = \"https://www.googleapis.com/books/v1/volumes\"\n",
    "query = \"microservices\"\n",
    "\n",
    "params = {\"q\": query, \"maxResults\": 3}\n",
    "response = requests.get(endpoint, params=params).json()\n",
    "for book in response[\"items\"]:\n",
    "volume = book[\"volumeInfo\"]\n",
    "title = volume[\"title\"]\n",
    "published = volume[\"publishedDate\"]\n",
    "print(f\"{title} ({published})\\n{description}\\n\")"
   ]
  },
  {
   "cell_type": "code",
   "execution_count": 32,
   "id": "1a20c9c8-2ca8-49d8-bf0b-7a19a616074f",
   "metadata": {},
   "outputs": [
    {
     "ename": "NameError",
     "evalue": "name 'description' is not defined",
     "output_type": "error",
     "traceback": [
      "\u001b[1;31m---------------------------------------------------------------------------\u001b[0m",
      "\u001b[1;31mNameError\u001b[0m                                 Traceback (most recent call last)",
      "Cell \u001b[1;32mIn[32], line 12\u001b[0m\n\u001b[0;32m     10\u001b[0m title \u001b[38;5;241m=\u001b[39m volume[\u001b[38;5;124m\"\u001b[39m\u001b[38;5;124mtitle\u001b[39m\u001b[38;5;124m\"\u001b[39m]\n\u001b[0;32m     11\u001b[0m published \u001b[38;5;241m=\u001b[39m volume[\u001b[38;5;124m\"\u001b[39m\u001b[38;5;124mpublishedDate\u001b[39m\u001b[38;5;124m\"\u001b[39m]\n\u001b[1;32m---> 12\u001b[0m \u001b[38;5;28mprint\u001b[39m(\u001b[38;5;124mf\u001b[39m\u001b[38;5;124m\"\u001b[39m\u001b[38;5;132;01m{\u001b[39;00mtitle\u001b[38;5;132;01m}\u001b[39;00m\u001b[38;5;124m (\u001b[39m\u001b[38;5;132;01m{\u001b[39;00mpublished\u001b[38;5;132;01m}\u001b[39;00m\u001b[38;5;124m)\u001b[39m\u001b[38;5;130;01m\\n\u001b[39;00m\u001b[38;5;132;01m{\u001b[39;00m\u001b[43mdescription\u001b[49m\u001b[38;5;132;01m}\u001b[39;00m\u001b[38;5;130;01m\\n\u001b[39;00m\u001b[38;5;124m\"\u001b[39m)\n",
      "\u001b[1;31mNameError\u001b[0m: name 'description' is not defined"
     ]
    }
   ],
   "source": [
    "import requests\n",
    "\n",
    "endpoint = \"https://www.googleapis.com/books/v1/volumes\"\n",
    "query = \"microservices\"\n",
    "\n",
    "params = {\"q\": query, \"maxResults\": 3}\n",
    "response = requests.get(endpoint, params=params).json()\n",
    "for book in response[\"items\"]:\n",
    "    volume = book[\"volumeInfo\"]\n",
    "    title = volume[\"title\"]\n",
    "    published = volume[\"publishedDate\"]\n",
    "    print(f\"{title} ({published})\\n{description}\\n\")"
   ]
  },
  {
   "cell_type": "code",
   "execution_count": 34,
   "id": "9f387350-0beb-4140-9e7f-a468195cfdc0",
   "metadata": {},
   "outputs": [
    {
     "name": "stdout",
     "output_type": "stream",
     "text": [
      "Building Microservices (2021-07-24)\n",
      "\n",
      "Microservice Architecture (2016-07-18)\n",
      "\n",
      "Microservices Design Patterns with Java (2024-05-24)\n",
      "\n"
     ]
    }
   ],
   "source": [
    "import requests\n",
    "\n",
    "endpoint = \"https://www.googleapis.com/books/v1/volumes\"\n",
    "query = \"microservices\"\n",
    "\n",
    "params = {\"q\": query, \"maxResults\": 3}\n",
    "response = requests.get(endpoint, params=params).json()\n",
    "for book in response[\"items\"]:\n",
    "    volume = book[\"volumeInfo\"]\n",
    "    title = volume[\"title\"]\n",
    "    published = volume[\"publishedDate\"]\n",
    "    print(f\"{title} ({published})\\n\")"
   ]
  },
  {
   "cell_type": "code",
   "execution_count": 35,
   "id": "6eb789f9-5f23-4a12-a912-c224246cb46b",
   "metadata": {},
   "outputs": [
    {
     "name": "stdout",
     "output_type": "stream",
     "text": [
      "Building Microservices (2021-07-24)\n",
      "\n",
      "Microservice Architecture (2016-07-18)\n",
      "\n",
      "Microservices Design Patterns with Java (2024-05-24)\n",
      "\n"
     ]
    }
   ],
   "source": [
    "response = requests.get(endpoint, params=params).json()\n",
    "for book in response[\"items\"]:\n",
    "    volume = book[\"volumeInfo\"]\n",
    "    title = volume[\"title\"]\n",
    "    published = volume[\"publishedDate\"]\n",
    "    print(f\"{title} ({published})\\n\")"
   ]
  },
  {
   "cell_type": "code",
   "execution_count": null,
   "id": "bd8d6283-ece1-4d96-bff0-a8056362da07",
   "metadata": {},
   "outputs": [],
   "source": []
  }
 ],
 "metadata": {
  "kernelspec": {
   "display_name": "Python 3 (ipykernel)",
   "language": "python",
   "name": "python3"
  },
  "language_info": {
   "codemirror_mode": {
    "name": "ipython",
    "version": 3
   },
   "file_extension": ".py",
   "mimetype": "text/x-python",
   "name": "python",
   "nbconvert_exporter": "python",
   "pygments_lexer": "ipython3",
   "version": "3.13.0"
  }
 },
 "nbformat": 4,
 "nbformat_minor": 5
}
